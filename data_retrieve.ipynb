{
 "cells": [
  {
   "cell_type": "code",
   "execution_count": 80,
   "metadata": {},
   "outputs": [
    {
     "name": "stdout",
     "output_type": "stream",
     "text": [
      "Requirement already satisfied: lxml in c:\\users\\natha\\miniconda3\\lib\\site-packages (5.1.0)\n",
      "Note: you may need to restart the kernel to use updated packages.\n"
     ]
    },
    {
     "name": "stderr",
     "output_type": "stream",
     "text": [
      "WARNING: Skipping c:\\Users\\natha\\miniconda3\\Lib\\site-packages\\numpy-2.0.0.dist-info due to invalid metadata entry 'name'\n",
      "WARNING: Skipping c:\\Users\\natha\\miniconda3\\Lib\\site-packages\\numpy-2.0.0.dist-info due to invalid metadata entry 'name'\n",
      "WARNING: Skipping c:\\Users\\natha\\miniconda3\\Lib\\site-packages\\numpy-2.0.0.dist-info due to invalid metadata entry 'name'\n",
      "WARNING: Skipping c:\\Users\\natha\\miniconda3\\Lib\\site-packages\\numpy-2.0.0.dist-info due to invalid metadata entry 'name'\n",
      "WARNING: Skipping c:\\Users\\natha\\miniconda3\\Lib\\site-packages\\numpy-2.0.0.dist-info due to invalid metadata entry 'name'\n",
      "WARNING: Skipping c:\\Users\\natha\\miniconda3\\Lib\\site-packages\\numpy-2.0.0.dist-info due to invalid metadata entry 'name'\n"
     ]
    },
    {
     "name": "stdout",
     "output_type": "stream",
     "text": [
      "Requirement already satisfied: pandas in c:\\users\\natha\\miniconda3\\lib\\site-packages (2.2.2)\n",
      "Requirement already satisfied: numpy>=1.23.2 in c:\\users\\natha\\miniconda3\\lib\\site-packages (from pandas) (1.26.4)\n",
      "Requirement already satisfied: python-dateutil>=2.8.2 in c:\\users\\natha\\miniconda3\\lib\\site-packages (from pandas) (2.8.2)\n",
      "Requirement already satisfied: pytz>=2020.1 in c:\\users\\natha\\miniconda3\\lib\\site-packages (from pandas) (2023.3.post1)\n",
      "Requirement already satisfied: tzdata>=2022.7 in c:\\users\\natha\\miniconda3\\lib\\site-packages (from pandas) (2023.4)\n",
      "Requirement already satisfied: six>=1.5 in c:\\users\\natha\\miniconda3\\lib\\site-packages (from python-dateutil>=2.8.2->pandas) (1.16.0)\n",
      "Note: you may need to restart the kernel to use updated packages.\n"
     ]
    },
    {
     "name": "stderr",
     "output_type": "stream",
     "text": [
      "WARNING: Skipping c:\\Users\\natha\\miniconda3\\Lib\\site-packages\\numpy-2.0.0.dist-info due to invalid metadata entry 'name'\n",
      "WARNING: Skipping c:\\Users\\natha\\miniconda3\\Lib\\site-packages\\numpy-2.0.0.dist-info due to invalid metadata entry 'name'\n",
      "WARNING: Skipping c:\\Users\\natha\\miniconda3\\Lib\\site-packages\\numpy-2.0.0.dist-info due to invalid metadata entry 'name'\n",
      "WARNING: Skipping c:\\Users\\natha\\miniconda3\\Lib\\site-packages\\numpy-2.0.0.dist-info due to invalid metadata entry 'name'\n",
      "WARNING: Skipping c:\\Users\\natha\\miniconda3\\Lib\\site-packages\\numpy-2.0.0.dist-info due to invalid metadata entry 'name'\n",
      "WARNING: Skipping c:\\Users\\natha\\miniconda3\\Lib\\site-packages\\numpy-2.0.0.dist-info due to invalid metadata entry 'name'\n"
     ]
    },
    {
     "name": "stdout",
     "output_type": "stream",
     "text": [
      "Requirement already satisfied: geopandas in c:\\users\\natha\\miniconda3\\lib\\site-packages (1.0.1)\n",
      "Requirement already satisfied: numpy>=1.22 in c:\\users\\natha\\miniconda3\\lib\\site-packages (from geopandas) (1.26.4)\n",
      "Requirement already satisfied: pyogrio>=0.7.2 in c:\\users\\natha\\miniconda3\\lib\\site-packages (from geopandas) (0.10.0)\n",
      "Requirement already satisfied: packaging in c:\\users\\natha\\miniconda3\\lib\\site-packages (from geopandas) (23.1)\n",
      "Requirement already satisfied: pandas>=1.4.0 in c:\\users\\natha\\miniconda3\\lib\\site-packages (from geopandas) (2.2.2)\n",
      "Requirement already satisfied: pyproj>=3.3.0 in c:\\users\\natha\\miniconda3\\lib\\site-packages (from geopandas) (3.7.0)\n",
      "Requirement already satisfied: shapely>=2.0.0 in c:\\users\\natha\\miniconda3\\lib\\site-packages (from geopandas) (2.0.6)\n",
      "Requirement already satisfied: python-dateutil>=2.8.2 in c:\\users\\natha\\miniconda3\\lib\\site-packages (from pandas>=1.4.0->geopandas) (2.8.2)\n",
      "Requirement already satisfied: pytz>=2020.1 in c:\\users\\natha\\miniconda3\\lib\\site-packages (from pandas>=1.4.0->geopandas) (2023.3.post1)\n",
      "Requirement already satisfied: tzdata>=2022.7 in c:\\users\\natha\\miniconda3\\lib\\site-packages (from pandas>=1.4.0->geopandas) (2023.4)\n",
      "Requirement already satisfied: certifi in c:\\users\\natha\\miniconda3\\lib\\site-packages (from pyogrio>=0.7.2->geopandas) (2024.8.30)\n",
      "Requirement already satisfied: six>=1.5 in c:\\users\\natha\\miniconda3\\lib\\site-packages (from python-dateutil>=2.8.2->pandas>=1.4.0->geopandas) (1.16.0)\n",
      "Note: you may need to restart the kernel to use updated packages.\n"
     ]
    },
    {
     "name": "stderr",
     "output_type": "stream",
     "text": [
      "WARNING: Skipping c:\\Users\\natha\\miniconda3\\Lib\\site-packages\\numpy-2.0.0.dist-info due to invalid metadata entry 'name'\n",
      "WARNING: Skipping c:\\Users\\natha\\miniconda3\\Lib\\site-packages\\numpy-2.0.0.dist-info due to invalid metadata entry 'name'\n",
      "WARNING: Skipping c:\\Users\\natha\\miniconda3\\Lib\\site-packages\\numpy-2.0.0.dist-info due to invalid metadata entry 'name'\n",
      "WARNING: Skipping c:\\Users\\natha\\miniconda3\\Lib\\site-packages\\numpy-2.0.0.dist-info due to invalid metadata entry 'name'\n",
      "WARNING: Skipping c:\\Users\\natha\\miniconda3\\Lib\\site-packages\\numpy-2.0.0.dist-info due to invalid metadata entry 'name'\n",
      "WARNING: Skipping c:\\Users\\natha\\miniconda3\\Lib\\site-packages\\numpy-2.0.0.dist-info due to invalid metadata entry 'name'\n"
     ]
    },
    {
     "name": "stdout",
     "output_type": "stream",
     "text": [
      "Requirement already satisfied: matplotlib in c:\\users\\natha\\miniconda3\\lib\\site-packages (3.9.2)\n",
      "Requirement already satisfied: contourpy>=1.0.1 in c:\\users\\natha\\miniconda3\\lib\\site-packages (from matplotlib) (1.2.0)\n",
      "Requirement already satisfied: cycler>=0.10 in c:\\users\\natha\\miniconda3\\lib\\site-packages (from matplotlib) (0.12.1)\n",
      "Requirement already satisfied: fonttools>=4.22.0 in c:\\users\\natha\\miniconda3\\lib\\site-packages (from matplotlib) (4.47.2)\n",
      "Requirement already satisfied: kiwisolver>=1.3.1 in c:\\users\\natha\\miniconda3\\lib\\site-packages (from matplotlib) (1.4.5)\n",
      "Requirement already satisfied: numpy>=1.23 in c:\\users\\natha\\miniconda3\\lib\\site-packages (from matplotlib) (1.26.4)\n",
      "Requirement already satisfied: packaging>=20.0 in c:\\users\\natha\\miniconda3\\lib\\site-packages (from matplotlib) (23.1)\n",
      "Requirement already satisfied: pillow>=8 in c:\\users\\natha\\miniconda3\\lib\\site-packages (from matplotlib) (11.0.0)\n",
      "Requirement already satisfied: pyparsing>=2.3.1 in c:\\users\\natha\\miniconda3\\lib\\site-packages (from matplotlib) (3.1.1)\n",
      "Requirement already satisfied: python-dateutil>=2.7 in c:\\users\\natha\\miniconda3\\lib\\site-packages (from matplotlib) (2.8.2)\n",
      "Requirement already satisfied: six>=1.5 in c:\\users\\natha\\miniconda3\\lib\\site-packages (from python-dateutil>=2.7->matplotlib) (1.16.0)\n",
      "Note: you may need to restart the kernel to use updated packages.\n"
     ]
    },
    {
     "name": "stderr",
     "output_type": "stream",
     "text": [
      "WARNING: Skipping c:\\Users\\natha\\miniconda3\\Lib\\site-packages\\numpy-2.0.0.dist-info due to invalid metadata entry 'name'\n",
      "WARNING: Skipping c:\\Users\\natha\\miniconda3\\Lib\\site-packages\\numpy-2.0.0.dist-info due to invalid metadata entry 'name'\n",
      "WARNING: Skipping c:\\Users\\natha\\miniconda3\\Lib\\site-packages\\numpy-2.0.0.dist-info due to invalid metadata entry 'name'\n",
      "WARNING: Skipping c:\\Users\\natha\\miniconda3\\Lib\\site-packages\\numpy-2.0.0.dist-info due to invalid metadata entry 'name'\n",
      "WARNING: Skipping c:\\Users\\natha\\miniconda3\\Lib\\site-packages\\numpy-2.0.0.dist-info due to invalid metadata entry 'name'\n",
      "WARNING: Skipping c:\\Users\\natha\\miniconda3\\Lib\\site-packages\\numpy-2.0.0.dist-info due to invalid metadata entry 'name'\n"
     ]
    },
    {
     "name": "stdout",
     "output_type": "stream",
     "text": [
      "Requirement already satisfied: requests in c:\\users\\natha\\miniconda3\\lib\\site-packages (2.31.0)\n",
      "Requirement already satisfied: charset-normalizer<4,>=2 in c:\\users\\natha\\miniconda3\\lib\\site-packages (from requests) (3.3.2)\n",
      "Requirement already satisfied: idna<4,>=2.5 in c:\\users\\natha\\miniconda3\\lib\\site-packages (from requests) (3.4)\n",
      "Requirement already satisfied: urllib3<3,>=1.21.1 in c:\\users\\natha\\miniconda3\\lib\\site-packages (from requests) (1.26.18)\n",
      "Requirement already satisfied: certifi>=2017.4.17 in c:\\users\\natha\\miniconda3\\lib\\site-packages (from requests) (2024.8.30)\n",
      "Note: you may need to restart the kernel to use updated packages.\n"
     ]
    },
    {
     "name": "stderr",
     "output_type": "stream",
     "text": [
      "WARNING: Skipping c:\\Users\\natha\\miniconda3\\Lib\\site-packages\\numpy-2.0.0.dist-info due to invalid metadata entry 'name'\n",
      "WARNING: Skipping c:\\Users\\natha\\miniconda3\\Lib\\site-packages\\numpy-2.0.0.dist-info due to invalid metadata entry 'name'\n",
      "WARNING: Skipping c:\\Users\\natha\\miniconda3\\Lib\\site-packages\\numpy-2.0.0.dist-info due to invalid metadata entry 'name'\n",
      "WARNING: Skipping c:\\Users\\natha\\miniconda3\\Lib\\site-packages\\numpy-2.0.0.dist-info due to invalid metadata entry 'name'\n",
      "WARNING: Skipping c:\\Users\\natha\\miniconda3\\Lib\\site-packages\\numpy-2.0.0.dist-info due to invalid metadata entry 'name'\n",
      "WARNING: Skipping c:\\Users\\natha\\miniconda3\\Lib\\site-packages\\numpy-2.0.0.dist-info due to invalid metadata entry 'name'\n"
     ]
    },
    {
     "name": "stdout",
     "output_type": "stream",
     "text": [
      "Requirement already satisfied: bs4 in c:\\users\\natha\\miniconda3\\lib\\site-packages (0.0.2)\n",
      "Requirement already satisfied: beautifulsoup4 in c:\\users\\natha\\miniconda3\\lib\\site-packages (from bs4) (4.12.3)\n",
      "Requirement already satisfied: soupsieve>1.2 in c:\\users\\natha\\miniconda3\\lib\\site-packages (from beautifulsoup4->bs4) (2.5)\n",
      "Note: you may need to restart the kernel to use updated packages.\n"
     ]
    },
    {
     "name": "stderr",
     "output_type": "stream",
     "text": [
      "WARNING: Skipping c:\\Users\\natha\\miniconda3\\Lib\\site-packages\\numpy-2.0.0.dist-info due to invalid metadata entry 'name'\n",
      "WARNING: Skipping c:\\Users\\natha\\miniconda3\\Lib\\site-packages\\numpy-2.0.0.dist-info due to invalid metadata entry 'name'\n",
      "WARNING: Skipping c:\\Users\\natha\\miniconda3\\Lib\\site-packages\\numpy-2.0.0.dist-info due to invalid metadata entry 'name'\n",
      "WARNING: Skipping c:\\Users\\natha\\miniconda3\\Lib\\site-packages\\numpy-2.0.0.dist-info due to invalid metadata entry 'name'\n",
      "WARNING: Skipping c:\\Users\\natha\\miniconda3\\Lib\\site-packages\\numpy-2.0.0.dist-info due to invalid metadata entry 'name'\n",
      "WARNING: Skipping c:\\Users\\natha\\miniconda3\\Lib\\site-packages\\numpy-2.0.0.dist-info due to invalid metadata entry 'name'\n"
     ]
    },
    {
     "name": "stdout",
     "output_type": "stream",
     "text": [
      "Requirement already satisfied: nltk in c:\\users\\natha\\miniconda3\\lib\\site-packages (3.8.1)\n",
      "Requirement already satisfied: click in c:\\users\\natha\\miniconda3\\lib\\site-packages (from nltk) (8.1.7)\n",
      "Requirement already satisfied: joblib in c:\\users\\natha\\miniconda3\\lib\\site-packages (from nltk) (1.1.1)\n",
      "Requirement already satisfied: regex>=2021.8.3 in c:\\users\\natha\\miniconda3\\lib\\site-packages (from nltk) (2023.12.25)\n",
      "Requirement already satisfied: tqdm in c:\\users\\natha\\miniconda3\\lib\\site-packages (from nltk) (4.66.1)\n",
      "Requirement already satisfied: colorama in c:\\users\\natha\\miniconda3\\lib\\site-packages (from click->nltk) (0.4.6)\n",
      "Note: you may need to restart the kernel to use updated packages.\n"
     ]
    },
    {
     "name": "stderr",
     "output_type": "stream",
     "text": [
      "WARNING: Skipping c:\\Users\\natha\\miniconda3\\Lib\\site-packages\\numpy-2.0.0.dist-info due to invalid metadata entry 'name'\n",
      "WARNING: Skipping c:\\Users\\natha\\miniconda3\\Lib\\site-packages\\numpy-2.0.0.dist-info due to invalid metadata entry 'name'\n",
      "WARNING: Skipping c:\\Users\\natha\\miniconda3\\Lib\\site-packages\\numpy-2.0.0.dist-info due to invalid metadata entry 'name'\n",
      "WARNING: Skipping c:\\Users\\natha\\miniconda3\\Lib\\site-packages\\numpy-2.0.0.dist-info due to invalid metadata entry 'name'\n",
      "WARNING: Skipping c:\\Users\\natha\\miniconda3\\Lib\\site-packages\\numpy-2.0.0.dist-info due to invalid metadata entry 'name'\n",
      "WARNING: Skipping c:\\Users\\natha\\miniconda3\\Lib\\site-packages\\numpy-2.0.0.dist-info due to invalid metadata entry 'name'\n"
     ]
    },
    {
     "name": "stdout",
     "output_type": "stream",
     "text": [
      "Requirement already satisfied: seaborn in c:\\users\\natha\\miniconda3\\lib\\site-packages (0.13.2)\n",
      "Requirement already satisfied: numpy!=1.24.0,>=1.20 in c:\\users\\natha\\miniconda3\\lib\\site-packages (from seaborn) (1.26.4)\n",
      "Requirement already satisfied: pandas>=1.2 in c:\\users\\natha\\miniconda3\\lib\\site-packages (from seaborn) (2.2.2)\n",
      "Requirement already satisfied: matplotlib!=3.6.1,>=3.4 in c:\\users\\natha\\miniconda3\\lib\\site-packages (from seaborn) (3.9.2)\n",
      "Requirement already satisfied: contourpy>=1.0.1 in c:\\users\\natha\\miniconda3\\lib\\site-packages (from matplotlib!=3.6.1,>=3.4->seaborn) (1.2.0)\n",
      "Requirement already satisfied: cycler>=0.10 in c:\\users\\natha\\miniconda3\\lib\\site-packages (from matplotlib!=3.6.1,>=3.4->seaborn) (0.12.1)\n",
      "Requirement already satisfied: fonttools>=4.22.0 in c:\\users\\natha\\miniconda3\\lib\\site-packages (from matplotlib!=3.6.1,>=3.4->seaborn) (4.47.2)\n",
      "Requirement already satisfied: kiwisolver>=1.3.1 in c:\\users\\natha\\miniconda3\\lib\\site-packages (from matplotlib!=3.6.1,>=3.4->seaborn) (1.4.5)\n",
      "Requirement already satisfied: packaging>=20.0 in c:\\users\\natha\\miniconda3\\lib\\site-packages (from matplotlib!=3.6.1,>=3.4->seaborn) (23.1)\n",
      "Requirement already satisfied: pillow>=8 in c:\\users\\natha\\miniconda3\\lib\\site-packages (from matplotlib!=3.6.1,>=3.4->seaborn) (11.0.0)\n",
      "Requirement already satisfied: pyparsing>=2.3.1 in c:\\users\\natha\\miniconda3\\lib\\site-packages (from matplotlib!=3.6.1,>=3.4->seaborn) (3.1.1)\n",
      "Requirement already satisfied: python-dateutil>=2.7 in c:\\users\\natha\\miniconda3\\lib\\site-packages (from matplotlib!=3.6.1,>=3.4->seaborn) (2.8.2)\n",
      "Requirement already satisfied: pytz>=2020.1 in c:\\users\\natha\\miniconda3\\lib\\site-packages (from pandas>=1.2->seaborn) (2023.3.post1)\n",
      "Requirement already satisfied: tzdata>=2022.7 in c:\\users\\natha\\miniconda3\\lib\\site-packages (from pandas>=1.2->seaborn) (2023.4)\n",
      "Requirement already satisfied: six>=1.5 in c:\\users\\natha\\miniconda3\\lib\\site-packages (from python-dateutil>=2.7->matplotlib!=3.6.1,>=3.4->seaborn) (1.16.0)\n",
      "Note: you may need to restart the kernel to use updated packages.\n"
     ]
    },
    {
     "name": "stderr",
     "output_type": "stream",
     "text": [
      "WARNING: Skipping c:\\Users\\natha\\miniconda3\\Lib\\site-packages\\numpy-2.0.0.dist-info due to invalid metadata entry 'name'\n",
      "WARNING: Skipping c:\\Users\\natha\\miniconda3\\Lib\\site-packages\\numpy-2.0.0.dist-info due to invalid metadata entry 'name'\n",
      "WARNING: Skipping c:\\Users\\natha\\miniconda3\\Lib\\site-packages\\numpy-2.0.0.dist-info due to invalid metadata entry 'name'\n",
      "WARNING: Skipping c:\\Users\\natha\\miniconda3\\Lib\\site-packages\\numpy-2.0.0.dist-info due to invalid metadata entry 'name'\n",
      "WARNING: Skipping c:\\Users\\natha\\miniconda3\\Lib\\site-packages\\numpy-2.0.0.dist-info due to invalid metadata entry 'name'\n",
      "WARNING: Skipping c:\\Users\\natha\\miniconda3\\Lib\\site-packages\\numpy-2.0.0.dist-info due to invalid metadata entry 'name'\n"
     ]
    },
    {
     "name": "stdout",
     "output_type": "stream",
     "text": [
      "Requirement already satisfied: plotly in c:\\users\\natha\\miniconda3\\lib\\site-packages (5.24.1)\n",
      "Requirement already satisfied: tenacity>=6.2.0 in c:\\users\\natha\\miniconda3\\lib\\site-packages (from plotly) (9.0.0)\n",
      "Requirement already satisfied: packaging in c:\\users\\natha\\miniconda3\\lib\\site-packages (from plotly) (23.1)\n",
      "Note: you may need to restart the kernel to use updated packages.\n"
     ]
    },
    {
     "name": "stderr",
     "output_type": "stream",
     "text": [
      "WARNING: Skipping c:\\Users\\natha\\miniconda3\\Lib\\site-packages\\numpy-2.0.0.dist-info due to invalid metadata entry 'name'\n",
      "WARNING: Skipping c:\\Users\\natha\\miniconda3\\Lib\\site-packages\\numpy-2.0.0.dist-info due to invalid metadata entry 'name'\n",
      "WARNING: Skipping c:\\Users\\natha\\miniconda3\\Lib\\site-packages\\numpy-2.0.0.dist-info due to invalid metadata entry 'name'\n",
      "WARNING: Skipping c:\\Users\\natha\\miniconda3\\Lib\\site-packages\\numpy-2.0.0.dist-info due to invalid metadata entry 'name'\n",
      "WARNING: Skipping c:\\Users\\natha\\miniconda3\\Lib\\site-packages\\numpy-2.0.0.dist-info due to invalid metadata entry 'name'\n",
      "WARNING: Skipping c:\\Users\\natha\\miniconda3\\Lib\\site-packages\\numpy-2.0.0.dist-info due to invalid metadata entry 'name'\n"
     ]
    },
    {
     "name": "stdout",
     "output_type": "stream",
     "text": [
      "Requirement already satisfied: tqdm in c:\\users\\natha\\miniconda3\\lib\\site-packages (4.66.1)\n",
      "Requirement already satisfied: colorama in c:\\users\\natha\\miniconda3\\lib\\site-packages (from tqdm) (0.4.6)\n",
      "Note: you may need to restart the kernel to use updated packages.\n"
     ]
    },
    {
     "name": "stderr",
     "output_type": "stream",
     "text": [
      "WARNING: Skipping c:\\Users\\natha\\miniconda3\\Lib\\site-packages\\numpy-2.0.0.dist-info due to invalid metadata entry 'name'\n",
      "WARNING: Skipping c:\\Users\\natha\\miniconda3\\Lib\\site-packages\\numpy-2.0.0.dist-info due to invalid metadata entry 'name'\n",
      "WARNING: Skipping c:\\Users\\natha\\miniconda3\\Lib\\site-packages\\numpy-2.0.0.dist-info due to invalid metadata entry 'name'\n",
      "WARNING: Skipping c:\\Users\\natha\\miniconda3\\Lib\\site-packages\\numpy-2.0.0.dist-info due to invalid metadata entry 'name'\n",
      "WARNING: Skipping c:\\Users\\natha\\miniconda3\\Lib\\site-packages\\numpy-2.0.0.dist-info due to invalid metadata entry 'name'\n",
      "WARNING: Skipping c:\\Users\\natha\\miniconda3\\Lib\\site-packages\\numpy-2.0.0.dist-info due to invalid metadata entry 'name'\n"
     ]
    },
    {
     "name": "stdout",
     "output_type": "stream",
     "text": [
      "Requirement already satisfied: pywaffle in c:\\users\\natha\\miniconda3\\lib\\site-packages (1.1.1)\n",
      "Requirement already satisfied: fontawesomefree in c:\\users\\natha\\miniconda3\\lib\\site-packages (from pywaffle) (6.6.0)\n",
      "Requirement already satisfied: matplotlib in c:\\users\\natha\\miniconda3\\lib\\site-packages (from pywaffle) (3.9.2)\n",
      "Requirement already satisfied: contourpy>=1.0.1 in c:\\users\\natha\\miniconda3\\lib\\site-packages (from matplotlib->pywaffle) (1.2.0)\n",
      "Requirement already satisfied: cycler>=0.10 in c:\\users\\natha\\miniconda3\\lib\\site-packages (from matplotlib->pywaffle) (0.12.1)\n",
      "Requirement already satisfied: fonttools>=4.22.0 in c:\\users\\natha\\miniconda3\\lib\\site-packages (from matplotlib->pywaffle) (4.47.2)\n",
      "Requirement already satisfied: kiwisolver>=1.3.1 in c:\\users\\natha\\miniconda3\\lib\\site-packages (from matplotlib->pywaffle) (1.4.5)\n",
      "Requirement already satisfied: numpy>=1.23 in c:\\users\\natha\\miniconda3\\lib\\site-packages (from matplotlib->pywaffle) (1.26.4)\n",
      "Requirement already satisfied: packaging>=20.0 in c:\\users\\natha\\miniconda3\\lib\\site-packages (from matplotlib->pywaffle) (23.1)\n",
      "Requirement already satisfied: pillow>=8 in c:\\users\\natha\\miniconda3\\lib\\site-packages (from matplotlib->pywaffle) (11.0.0)\n",
      "Requirement already satisfied: pyparsing>=2.3.1 in c:\\users\\natha\\miniconda3\\lib\\site-packages (from matplotlib->pywaffle) (3.1.1)\n",
      "Requirement already satisfied: python-dateutil>=2.7 in c:\\users\\natha\\miniconda3\\lib\\site-packages (from matplotlib->pywaffle) (2.8.2)\n",
      "Requirement already satisfied: six>=1.5 in c:\\users\\natha\\miniconda3\\lib\\site-packages (from python-dateutil>=2.7->matplotlib->pywaffle) (1.16.0)\n",
      "Note: you may need to restart the kernel to use updated packages.\n"
     ]
    },
    {
     "name": "stderr",
     "output_type": "stream",
     "text": [
      "WARNING: Skipping c:\\Users\\natha\\miniconda3\\Lib\\site-packages\\numpy-2.0.0.dist-info due to invalid metadata entry 'name'\n",
      "WARNING: Skipping c:\\Users\\natha\\miniconda3\\Lib\\site-packages\\numpy-2.0.0.dist-info due to invalid metadata entry 'name'\n",
      "WARNING: Skipping c:\\Users\\natha\\miniconda3\\Lib\\site-packages\\numpy-2.0.0.dist-info due to invalid metadata entry 'name'\n",
      "WARNING: Skipping c:\\Users\\natha\\miniconda3\\Lib\\site-packages\\numpy-2.0.0.dist-info due to invalid metadata entry 'name'\n",
      "WARNING: Skipping c:\\Users\\natha\\miniconda3\\Lib\\site-packages\\numpy-2.0.0.dist-info due to invalid metadata entry 'name'\n",
      "WARNING: Skipping c:\\Users\\natha\\miniconda3\\Lib\\site-packages\\numpy-2.0.0.dist-info due to invalid metadata entry 'name'\n"
     ]
    },
    {
     "name": "stdout",
     "output_type": "stream",
     "text": [
      "Requirement already satisfied: spacy in c:\\users\\natha\\miniconda3\\lib\\site-packages (3.7.2)\n",
      "Requirement already satisfied: spacy-legacy<3.1.0,>=3.0.11 in c:\\users\\natha\\miniconda3\\lib\\site-packages (from spacy) (3.0.12)\n",
      "Requirement already satisfied: spacy-loggers<2.0.0,>=1.0.0 in c:\\users\\natha\\miniconda3\\lib\\site-packages (from spacy) (1.0.5)\n",
      "Requirement already satisfied: murmurhash<1.1.0,>=0.28.0 in c:\\users\\natha\\miniconda3\\lib\\site-packages (from spacy) (1.0.10)\n",
      "Requirement already satisfied: cymem<2.1.0,>=2.0.2 in c:\\users\\natha\\miniconda3\\lib\\site-packages (from spacy) (2.0.8)\n",
      "Requirement already satisfied: preshed<3.1.0,>=3.0.2 in c:\\users\\natha\\miniconda3\\lib\\site-packages (from spacy) (3.0.9)\n",
      "Requirement already satisfied: thinc<8.3.0,>=8.1.8 in c:\\users\\natha\\miniconda3\\lib\\site-packages (from spacy) (8.2.2)\n",
      "Requirement already satisfied: wasabi<1.2.0,>=0.9.1 in c:\\users\\natha\\miniconda3\\lib\\site-packages (from spacy) (1.1.2)\n",
      "Requirement already satisfied: srsly<3.0.0,>=2.4.3 in c:\\users\\natha\\miniconda3\\lib\\site-packages (from spacy) (2.4.8)\n",
      "Requirement already satisfied: catalogue<2.1.0,>=2.0.6 in c:\\users\\natha\\miniconda3\\lib\\site-packages (from spacy) (2.0.10)\n",
      "Requirement already satisfied: weasel<0.4.0,>=0.1.0 in c:\\users\\natha\\miniconda3\\lib\\site-packages (from spacy) (0.3.4)\n",
      "Requirement already satisfied: typer<0.10.0,>=0.3.0 in c:\\users\\natha\\miniconda3\\lib\\site-packages (from spacy) (0.9.0)\n",
      "Requirement already satisfied: smart-open<7.0.0,>=5.2.1 in c:\\users\\natha\\miniconda3\\lib\\site-packages (from spacy) (6.4.0)\n",
      "Requirement already satisfied: tqdm<5.0.0,>=4.38.0 in c:\\users\\natha\\miniconda3\\lib\\site-packages (from spacy) (4.66.1)\n",
      "Requirement already satisfied: requests<3.0.0,>=2.13.0 in c:\\users\\natha\\miniconda3\\lib\\site-packages (from spacy) (2.31.0)\n",
      "Requirement already satisfied: pydantic!=1.8,!=1.8.1,<3.0.0,>=1.7.4 in c:\\users\\natha\\miniconda3\\lib\\site-packages (from spacy) (2.5.3)\n",
      "Requirement already satisfied: jinja2 in c:\\users\\natha\\miniconda3\\lib\\site-packages (from spacy) (3.1.3)\n",
      "Requirement already satisfied: setuptools in c:\\users\\natha\\miniconda3\\lib\\site-packages (from spacy) (68.2.2)\n",
      "Requirement already satisfied: packaging>=20.0 in c:\\users\\natha\\miniconda3\\lib\\site-packages (from spacy) (23.1)\n",
      "Requirement already satisfied: langcodes<4.0.0,>=3.2.0 in c:\\users\\natha\\miniconda3\\lib\\site-packages (from spacy) (3.3.0)\n",
      "Requirement already satisfied: numpy>=1.19.0 in c:\\users\\natha\\miniconda3\\lib\\site-packages (from spacy) (1.26.4)\n",
      "Requirement already satisfied: annotated-types>=0.4.0 in c:\\users\\natha\\miniconda3\\lib\\site-packages (from pydantic!=1.8,!=1.8.1,<3.0.0,>=1.7.4->spacy) (0.6.0)\n",
      "Requirement already satisfied: pydantic-core==2.14.6 in c:\\users\\natha\\miniconda3\\lib\\site-packages (from pydantic!=1.8,!=1.8.1,<3.0.0,>=1.7.4->spacy) (2.14.6)\n",
      "Requirement already satisfied: typing-extensions>=4.6.1 in c:\\users\\natha\\miniconda3\\lib\\site-packages (from pydantic!=1.8,!=1.8.1,<3.0.0,>=1.7.4->spacy) (4.11.0)\n",
      "Requirement already satisfied: charset-normalizer<4,>=2 in c:\\users\\natha\\miniconda3\\lib\\site-packages (from requests<3.0.0,>=2.13.0->spacy) (3.3.2)\n",
      "Requirement already satisfied: idna<4,>=2.5 in c:\\users\\natha\\miniconda3\\lib\\site-packages (from requests<3.0.0,>=2.13.0->spacy) (3.4)\n",
      "Requirement already satisfied: urllib3<3,>=1.21.1 in c:\\users\\natha\\miniconda3\\lib\\site-packages (from requests<3.0.0,>=2.13.0->spacy) (1.26.18)\n",
      "Requirement already satisfied: certifi>=2017.4.17 in c:\\users\\natha\\miniconda3\\lib\\site-packages (from requests<3.0.0,>=2.13.0->spacy) (2024.8.30)\n",
      "Requirement already satisfied: blis<0.8.0,>=0.7.8 in c:\\users\\natha\\miniconda3\\lib\\site-packages (from thinc<8.3.0,>=8.1.8->spacy) (0.7.11)\n",
      "Requirement already satisfied: confection<1.0.0,>=0.0.1 in c:\\users\\natha\\miniconda3\\lib\\site-packages (from thinc<8.3.0,>=8.1.8->spacy) (0.1.4)\n",
      "Requirement already satisfied: colorama in c:\\users\\natha\\miniconda3\\lib\\site-packages (from tqdm<5.0.0,>=4.38.0->spacy) (0.4.6)\n",
      "Requirement already satisfied: click<9.0.0,>=7.1.1 in c:\\users\\natha\\miniconda3\\lib\\site-packages (from typer<0.10.0,>=0.3.0->spacy) (8.1.7)\n",
      "Requirement already satisfied: cloudpathlib<0.17.0,>=0.7.0 in c:\\users\\natha\\miniconda3\\lib\\site-packages (from weasel<0.4.0,>=0.1.0->spacy) (0.16.0)\n",
      "Requirement already satisfied: MarkupSafe>=2.0 in c:\\users\\natha\\miniconda3\\lib\\site-packages (from jinja2->spacy) (2.1.4)\n",
      "Note: you may need to restart the kernel to use updated packages.\n"
     ]
    },
    {
     "name": "stderr",
     "output_type": "stream",
     "text": [
      "WARNING: Skipping c:\\Users\\natha\\miniconda3\\Lib\\site-packages\\numpy-2.0.0.dist-info due to invalid metadata entry 'name'\n",
      "WARNING: Skipping c:\\Users\\natha\\miniconda3\\Lib\\site-packages\\numpy-2.0.0.dist-info due to invalid metadata entry 'name'\n",
      "WARNING: Skipping c:\\Users\\natha\\miniconda3\\Lib\\site-packages\\numpy-2.0.0.dist-info due to invalid metadata entry 'name'\n",
      "WARNING: Skipping c:\\Users\\natha\\miniconda3\\Lib\\site-packages\\numpy-2.0.0.dist-info due to invalid metadata entry 'name'\n",
      "WARNING: Skipping c:\\Users\\natha\\miniconda3\\Lib\\site-packages\\numpy-2.0.0.dist-info due to invalid metadata entry 'name'\n",
      "WARNING: Skipping c:\\Users\\natha\\miniconda3\\Lib\\site-packages\\numpy-2.0.0.dist-info due to invalid metadata entry 'name'\n"
     ]
    },
    {
     "name": "stdout",
     "output_type": "stream",
     "text": [
      "Requirement already satisfied: plotnine in c:\\users\\natha\\miniconda3\\lib\\site-packages (0.14.4)\n",
      "Requirement already satisfied: matplotlib>=3.8.0 in c:\\users\\natha\\miniconda3\\lib\\site-packages (from plotnine) (3.9.2)\n",
      "Requirement already satisfied: pandas>=2.2.0 in c:\\users\\natha\\miniconda3\\lib\\site-packages (from plotnine) (2.2.2)\n",
      "Requirement already satisfied: mizani~=0.13.0 in c:\\users\\natha\\miniconda3\\lib\\site-packages (from plotnine) (0.13.1)\n",
      "Requirement already satisfied: numpy>=1.23.5 in c:\\users\\natha\\miniconda3\\lib\\site-packages (from plotnine) (1.26.4)\n",
      "Requirement already satisfied: scipy>=1.8.0 in c:\\users\\natha\\miniconda3\\lib\\site-packages (from plotnine) (1.12.0)\n",
      "Requirement already satisfied: statsmodels>=0.14.0 in c:\\users\\natha\\miniconda3\\lib\\site-packages (from plotnine) (0.14.2)\n",
      "Requirement already satisfied: contourpy>=1.0.1 in c:\\users\\natha\\miniconda3\\lib\\site-packages (from matplotlib>=3.8.0->plotnine) (1.2.0)\n",
      "Requirement already satisfied: cycler>=0.10 in c:\\users\\natha\\miniconda3\\lib\\site-packages (from matplotlib>=3.8.0->plotnine) (0.12.1)\n",
      "Requirement already satisfied: fonttools>=4.22.0 in c:\\users\\natha\\miniconda3\\lib\\site-packages (from matplotlib>=3.8.0->plotnine) (4.47.2)\n",
      "Requirement already satisfied: kiwisolver>=1.3.1 in c:\\users\\natha\\miniconda3\\lib\\site-packages (from matplotlib>=3.8.0->plotnine) (1.4.5)\n",
      "Requirement already satisfied: packaging>=20.0 in c:\\users\\natha\\miniconda3\\lib\\site-packages (from matplotlib>=3.8.0->plotnine) (23.1)\n",
      "Requirement already satisfied: pillow>=8 in c:\\users\\natha\\miniconda3\\lib\\site-packages (from matplotlib>=3.8.0->plotnine) (11.0.0)\n",
      "Requirement already satisfied: pyparsing>=2.3.1 in c:\\users\\natha\\miniconda3\\lib\\site-packages (from matplotlib>=3.8.0->plotnine) (3.1.1)\n",
      "Requirement already satisfied: python-dateutil>=2.7 in c:\\users\\natha\\miniconda3\\lib\\site-packages (from matplotlib>=3.8.0->plotnine) (2.8.2)\n",
      "Requirement already satisfied: tzdata in c:\\users\\natha\\miniconda3\\lib\\site-packages (from mizani~=0.13.0->plotnine) (2023.4)\n",
      "Requirement already satisfied: pytz>=2020.1 in c:\\users\\natha\\miniconda3\\lib\\site-packages (from pandas>=2.2.0->plotnine) (2023.3.post1)\n",
      "Requirement already satisfied: patsy>=0.5.6 in c:\\users\\natha\\miniconda3\\lib\\site-packages (from statsmodels>=0.14.0->plotnine) (0.5.6)\n",
      "Requirement already satisfied: six in c:\\users\\natha\\miniconda3\\lib\\site-packages (from patsy>=0.5.6->statsmodels>=0.14.0->plotnine) (1.16.0)\n",
      "Note: you may need to restart the kernel to use updated packages.\n"
     ]
    },
    {
     "name": "stderr",
     "output_type": "stream",
     "text": [
      "WARNING: Skipping c:\\Users\\natha\\miniconda3\\Lib\\site-packages\\numpy-2.0.0.dist-info due to invalid metadata entry 'name'\n",
      "WARNING: Skipping c:\\Users\\natha\\miniconda3\\Lib\\site-packages\\numpy-2.0.0.dist-info due to invalid metadata entry 'name'\n",
      "WARNING: Skipping c:\\Users\\natha\\miniconda3\\Lib\\site-packages\\numpy-2.0.0.dist-info due to invalid metadata entry 'name'\n",
      "WARNING: Skipping c:\\Users\\natha\\miniconda3\\Lib\\site-packages\\numpy-2.0.0.dist-info due to invalid metadata entry 'name'\n",
      "WARNING: Skipping c:\\Users\\natha\\miniconda3\\Lib\\site-packages\\numpy-2.0.0.dist-info due to invalid metadata entry 'name'\n",
      "WARNING: Skipping c:\\Users\\natha\\miniconda3\\Lib\\site-packages\\numpy-2.0.0.dist-info due to invalid metadata entry 'name'\n"
     ]
    },
    {
     "name": "stdout",
     "output_type": "stream",
     "text": [
      "Requirement already satisfied: great_tables in c:\\users\\natha\\miniconda3\\lib\\site-packages (0.15.0)\n",
      "Requirement already satisfied: commonmark>=0.9.1 in c:\\users\\natha\\miniconda3\\lib\\site-packages (from great_tables) (0.9.1)\n",
      "Requirement already satisfied: css-inline>=0.14.1 in c:\\users\\natha\\miniconda3\\lib\\site-packages (from great_tables) (0.14.3)\n",
      "Requirement already satisfied: faicons>=0.2.2 in c:\\users\\natha\\miniconda3\\lib\\site-packages (from great_tables) (0.2.2)\n",
      "Requirement already satisfied: htmltools>=0.4.1 in c:\\users\\natha\\miniconda3\\lib\\site-packages (from great_tables) (0.6.0)\n",
      "Requirement already satisfied: importlib-metadata in c:\\users\\natha\\miniconda3\\lib\\site-packages (from great_tables) (7.0.1)\n",
      "Requirement already satisfied: typing_extensions>=3.10.0.0 in c:\\users\\natha\\miniconda3\\lib\\site-packages (from great_tables) (4.11.0)\n",
      "Requirement already satisfied: numpy>=1.22.4 in c:\\users\\natha\\miniconda3\\lib\\site-packages (from great_tables) (1.26.4)\n",
      "Requirement already satisfied: Babel>=2.13.1 in c:\\users\\natha\\miniconda3\\lib\\site-packages (from great_tables) (2.16.0)\n",
      "Requirement already satisfied: importlib-resources in c:\\users\\natha\\miniconda3\\lib\\site-packages (from great_tables) (6.1.1)\n",
      "Requirement already satisfied: packaging>=20.9 in c:\\users\\natha\\miniconda3\\lib\\site-packages (from htmltools>=0.4.1->great_tables) (23.1)\n",
      "Requirement already satisfied: zipp>=0.5 in c:\\users\\natha\\miniconda3\\lib\\site-packages (from importlib-metadata->great_tables) (3.17.0)\n",
      "Note: you may need to restart the kernel to use updated packages.\n"
     ]
    },
    {
     "name": "stderr",
     "output_type": "stream",
     "text": [
      "WARNING: Skipping c:\\Users\\natha\\miniconda3\\Lib\\site-packages\\numpy-2.0.0.dist-info due to invalid metadata entry 'name'\n",
      "WARNING: Skipping c:\\Users\\natha\\miniconda3\\Lib\\site-packages\\numpy-2.0.0.dist-info due to invalid metadata entry 'name'\n",
      "WARNING: Skipping c:\\Users\\natha\\miniconda3\\Lib\\site-packages\\numpy-2.0.0.dist-info due to invalid metadata entry 'name'\n",
      "WARNING: Skipping c:\\Users\\natha\\miniconda3\\Lib\\site-packages\\numpy-2.0.0.dist-info due to invalid metadata entry 'name'\n",
      "WARNING: Skipping c:\\Users\\natha\\miniconda3\\Lib\\site-packages\\numpy-2.0.0.dist-info due to invalid metadata entry 'name'\n",
      "WARNING: Skipping c:\\Users\\natha\\miniconda3\\Lib\\site-packages\\numpy-2.0.0.dist-info due to invalid metadata entry 'name'\n"
     ]
    },
    {
     "name": "stdout",
     "output_type": "stream",
     "text": [
      "Requirement already satisfied: wordcloud in c:\\users\\natha\\miniconda3\\lib\\site-packages (1.9.4)\n",
      "Requirement already satisfied: numpy>=1.6.1 in c:\\users\\natha\\miniconda3\\lib\\site-packages (from wordcloud) (1.26.4)\n",
      "Requirement already satisfied: pillow in c:\\users\\natha\\miniconda3\\lib\\site-packages (from wordcloud) (11.0.0)\n",
      "Requirement already satisfied: matplotlib in c:\\users\\natha\\miniconda3\\lib\\site-packages (from wordcloud) (3.9.2)\n",
      "Requirement already satisfied: contourpy>=1.0.1 in c:\\users\\natha\\miniconda3\\lib\\site-packages (from matplotlib->wordcloud) (1.2.0)\n",
      "Requirement already satisfied: cycler>=0.10 in c:\\users\\natha\\miniconda3\\lib\\site-packages (from matplotlib->wordcloud) (0.12.1)\n",
      "Requirement already satisfied: fonttools>=4.22.0 in c:\\users\\natha\\miniconda3\\lib\\site-packages (from matplotlib->wordcloud) (4.47.2)\n",
      "Requirement already satisfied: kiwisolver>=1.3.1 in c:\\users\\natha\\miniconda3\\lib\\site-packages (from matplotlib->wordcloud) (1.4.5)\n",
      "Requirement already satisfied: packaging>=20.0 in c:\\users\\natha\\miniconda3\\lib\\site-packages (from matplotlib->wordcloud) (23.1)\n",
      "Requirement already satisfied: pyparsing>=2.3.1 in c:\\users\\natha\\miniconda3\\lib\\site-packages (from matplotlib->wordcloud) (3.1.1)\n",
      "Requirement already satisfied: python-dateutil>=2.7 in c:\\users\\natha\\miniconda3\\lib\\site-packages (from matplotlib->wordcloud) (2.8.2)\n",
      "Requirement already satisfied: six>=1.5 in c:\\users\\natha\\miniconda3\\lib\\site-packages (from python-dateutil>=2.7->matplotlib->wordcloud) (1.16.0)\n",
      "Note: you may need to restart the kernel to use updated packages.\n"
     ]
    },
    {
     "name": "stderr",
     "output_type": "stream",
     "text": [
      "WARNING: Skipping c:\\Users\\natha\\miniconda3\\Lib\\site-packages\\numpy-2.0.0.dist-info due to invalid metadata entry 'name'\n",
      "WARNING: Skipping c:\\Users\\natha\\miniconda3\\Lib\\site-packages\\numpy-2.0.0.dist-info due to invalid metadata entry 'name'\n",
      "WARNING: Skipping c:\\Users\\natha\\miniconda3\\Lib\\site-packages\\numpy-2.0.0.dist-info due to invalid metadata entry 'name'\n",
      "WARNING: Skipping c:\\Users\\natha\\miniconda3\\Lib\\site-packages\\numpy-2.0.0.dist-info due to invalid metadata entry 'name'\n",
      "WARNING: Skipping c:\\Users\\natha\\miniconda3\\Lib\\site-packages\\numpy-2.0.0.dist-info due to invalid metadata entry 'name'\n",
      "WARNING: Skipping c:\\Users\\natha\\miniconda3\\Lib\\site-packages\\numpy-2.0.0.dist-info due to invalid metadata entry 'name'\n"
     ]
    }
   ],
   "source": [
    "#Installations préalables\n",
    "%pip install lxml\n",
    "%pip install pandas\n",
    "%pip install geopandas\n",
    "%pip install matplotlib\n",
    "%pip install requests\n",
    "%pip install bs4\n",
    "%pip install nltk\n",
    "%pip install seaborn\n",
    "%pip install plotly\n",
    "%pip install tqdm\n",
    "%pip install pywaffle\n",
    "%pip install spacy\n",
    "%pip install plotnine\n",
    "%pip install great_tables\n",
    "%pip install wordcloud"
   ]
  },
  {
   "cell_type": "code",
   "execution_count": 81,
   "metadata": {},
   "outputs": [],
   "source": [
    "import matplotlib.pyplot as plt\n",
    "import country_converter as coco\n",
    "import plotly.express as px\n",
    "import seaborn as sns\n",
    "%run \"src/scripts/billboards.py\"\n",
    "%run \"src/scripts/musicbrainz.py\"\n",
    "%run \"src/scripts/genius.py\""
   ]
  },
  {
   "cell_type": "code",
   "execution_count": 82,
   "metadata": {},
   "outputs": [
    {
     "data": {
      "text/html": [
       "<div>\n",
       "<style scoped>\n",
       "    .dataframe tbody tr th:only-of-type {\n",
       "        vertical-align: middle;\n",
       "    }\n",
       "\n",
       "    .dataframe tbody tr th {\n",
       "        vertical-align: top;\n",
       "    }\n",
       "\n",
       "    .dataframe thead th {\n",
       "        text-align: right;\n",
       "    }\n",
       "</style>\n",
       "<table border=\"1\" class=\"dataframe\">\n",
       "  <thead>\n",
       "    <tr style=\"text-align: right;\">\n",
       "      <th></th>\n",
       "      <th>Song</th>\n",
       "      <th>Artist</th>\n",
       "    </tr>\n",
       "  </thead>\n",
       "  <tbody>\n",
       "    <tr>\n",
       "      <th>0</th>\n",
       "      <td>APT.</td>\n",
       "      <td>[Rosé, Bruno Mars]</td>\n",
       "    </tr>\n",
       "    <tr>\n",
       "      <th>1</th>\n",
       "      <td>All I Want For Christmas Is You</td>\n",
       "      <td>[Mariah Carey]</td>\n",
       "    </tr>\n",
       "    <tr>\n",
       "      <th>2</th>\n",
       "      <td>Last Christmas</td>\n",
       "      <td>[Wham!]</td>\n",
       "    </tr>\n",
       "    <tr>\n",
       "      <th>3</th>\n",
       "      <td>Die With A Smile</td>\n",
       "      <td>[Lady Gaga, Bruno Mars]</td>\n",
       "    </tr>\n",
       "    <tr>\n",
       "      <th>4</th>\n",
       "      <td>Rockin' Around The Christmas Tree</td>\n",
       "      <td>[Brenda Lee]</td>\n",
       "    </tr>\n",
       "    <tr>\n",
       "      <th>...</th>\n",
       "      <td>...</td>\n",
       "      <td>...</td>\n",
       "    </tr>\n",
       "    <tr>\n",
       "      <th>195</th>\n",
       "      <td>Q U E V A S H A C E R H O Y ?</td>\n",
       "      <td>[Omar Courtz, De La Rose]</td>\n",
       "    </tr>\n",
       "    <tr>\n",
       "      <th>196</th>\n",
       "      <td>Something Just Like This</td>\n",
       "      <td>[The Chainsmokers, Coldplay]</td>\n",
       "    </tr>\n",
       "    <tr>\n",
       "      <th>197</th>\n",
       "      <td>Stay A Little Longer</td>\n",
       "      <td>[Rosé]</td>\n",
       "    </tr>\n",
       "    <tr>\n",
       "      <th>198</th>\n",
       "      <td>Kehlani</td>\n",
       "      <td>[Jordan Adetunji]</td>\n",
       "    </tr>\n",
       "    <tr>\n",
       "      <th>199</th>\n",
       "      <td>+57</td>\n",
       "      <td>[Karol G, Feid, DFZM, Ovy On The Drums, J Balv...</td>\n",
       "    </tr>\n",
       "  </tbody>\n",
       "</table>\n",
       "<p>200 rows × 2 columns</p>\n",
       "</div>"
      ],
      "text/plain": [
       "                                  Song  \\\n",
       "0                                 APT.   \n",
       "1      All I Want For Christmas Is You   \n",
       "2                       Last Christmas   \n",
       "3                     Die With A Smile   \n",
       "4    Rockin' Around The Christmas Tree   \n",
       "..                                 ...   \n",
       "195      Q U E V A S H A C E R H O Y ?   \n",
       "196           Something Just Like This   \n",
       "197               Stay A Little Longer   \n",
       "198                            Kehlani   \n",
       "199                                +57   \n",
       "\n",
       "                                                Artist  \n",
       "0                                   [Rosé, Bruno Mars]  \n",
       "1                                       [Mariah Carey]  \n",
       "2                                              [Wham!]  \n",
       "3                              [Lady Gaga, Bruno Mars]  \n",
       "4                                         [Brenda Lee]  \n",
       "..                                                 ...  \n",
       "195                          [Omar Courtz, De La Rose]  \n",
       "196                       [The Chainsmokers, Coldplay]  \n",
       "197                                             [Rosé]  \n",
       "198                                  [Jordan Adetunji]  \n",
       "199  [Karol G, Feid, DFZM, Ovy On The Drums, J Balv...  \n",
       "\n",
       "[200 rows x 2 columns]"
      ]
     },
     "execution_count": 82,
     "metadata": {},
     "output_type": "execute_result"
    }
   ],
   "source": [
    "dataframe = get_billboard_hits()\n",
    "\n",
    "# Flatten the list of artists\n",
    "all_artists = [artist for sublist in dataframe['Artist'] for artist in sublist]\n",
    "\n",
    "# Count the occurrences of each artist\n",
    "artist_counts = pd.Series(all_artists).value_counts()\n",
    "\n",
    "dataframe"
   ]
  },
  {
   "cell_type": "code",
   "execution_count": 83,
   "metadata": {},
   "outputs": [
    {
     "data": {
      "image/png": "[encoded data removed]",
      "text/plain": [
       "<Figure size 1200x800 with 1 Axes>"
      ]
     },
     "metadata": {},
     "output_type": "display_data"
    }
   ],
   "source": [
    "# Plot the data\n",
    "plt.figure(figsize=(12, 8))\n",
    "artist_counts.head(10).plot(kind='bar')\n",
    "plt.title('Number of Times Each Artist is in the Top 200')\n",
    "plt.xlabel('Artist')\n",
    "plt.ylabel('Count')\n",
    "plt.xticks(rotation=90)\n",
    "plt.tight_layout()\n",
    "plt.show()"
   ]
  },
  {
   "cell_type": "code",
   "execution_count": 84,
   "metadata": {},
   "outputs": [
    {
     "name": "stderr",
     "output_type": "stream",
     "text": [
      " 25%|██▌       | 66/260 [01:47<05:30,  1.71s/it]"
     ]
    },
    {
     "name": "stdout",
     "output_type": "stream",
     "text": [
      "No artist information found.\n"
     ]
    },
    {
     "name": "stderr",
     "output_type": "stream",
     "text": [
      " 26%|██▌       | 67/260 [01:49<05:03,  1.57s/it]"
     ]
    },
    {
     "name": "stdout",
     "output_type": "stream",
     "text": [
      "No artist information found.\n"
     ]
    },
    {
     "name": "stderr",
     "output_type": "stream",
     "text": [
      " 27%|██▋       | 71/260 [01:55<04:49,  1.53s/it]"
     ]
    },
    {
     "name": "stdout",
     "output_type": "stream",
     "text": [
      "No artist data found.\n"
     ]
    },
    {
     "name": "stderr",
     "output_type": "stream",
     "text": [
      " 31%|███       | 81/260 [02:11<04:47,  1.61s/it]"
     ]
    },
    {
     "name": "stdout",
     "output_type": "stream",
     "text": [
      "No artist data found.\n"
     ]
    },
    {
     "name": "stderr",
     "output_type": "stream",
     "text": [
      " 33%|███▎      | 85/260 [02:17<04:42,  1.61s/it]"
     ]
    },
    {
     "name": "stdout",
     "output_type": "stream",
     "text": [
      "No artist information found.\n"
     ]
    },
    {
     "name": "stderr",
     "output_type": "stream",
     "text": [
      " 35%|███▍      | 90/260 [02:25<04:26,  1.57s/it]"
     ]
    },
    {
     "name": "stdout",
     "output_type": "stream",
     "text": [
      "No artist data found.\n"
     ]
    },
    {
     "name": "stderr",
     "output_type": "stream",
     "text": [
      " 37%|███▋      | 95/260 [02:33<04:25,  1.61s/it]"
     ]
    },
    {
     "name": "stdout",
     "output_type": "stream",
     "text": [
      "No artist data found.\n"
     ]
    },
    {
     "name": "stderr",
     "output_type": "stream",
     "text": [
      " 44%|████▍     | 114/260 [03:03<03:48,  1.56s/it]"
     ]
    },
    {
     "name": "stdout",
     "output_type": "stream",
     "text": [
      "No artist information found.\n"
     ]
    },
    {
     "name": "stderr",
     "output_type": "stream",
     "text": [
      " 55%|█████▍    | 142/260 [03:47<03:04,  1.56s/it]"
     ]
    },
    {
     "name": "stdout",
     "output_type": "stream",
     "text": [
      "No artist data found.\n"
     ]
    },
    {
     "name": "stderr",
     "output_type": "stream",
     "text": [
      " 58%|█████▊    | 151/260 [04:02<02:52,  1.58s/it]"
     ]
    },
    {
     "name": "stdout",
     "output_type": "stream",
     "text": [
      "No artist information found.\n"
     ]
    },
    {
     "name": "stderr",
     "output_type": "stream",
     "text": [
      " 69%|██████▉   | 180/260 [04:47<02:05,  1.57s/it]"
     ]
    },
    {
     "name": "stdout",
     "output_type": "stream",
     "text": [
      "No artist data found.\n"
     ]
    },
    {
     "name": "stderr",
     "output_type": "stream",
     "text": [
      " 71%|███████   | 184/260 [04:53<01:58,  1.56s/it]"
     ]
    },
    {
     "name": "stdout",
     "output_type": "stream",
     "text": [
      "No artist data found.\n"
     ]
    },
    {
     "name": "stderr",
     "output_type": "stream",
     "text": [
      " 75%|███████▍  | 194/260 [05:10<01:49,  1.66s/it]"
     ]
    },
    {
     "name": "stdout",
     "output_type": "stream",
     "text": [
      "No artist information found.\n"
     ]
    },
    {
     "name": "stderr",
     "output_type": "stream",
     "text": [
      " 81%|████████  | 210/260 [05:35<01:18,  1.58s/it]"
     ]
    },
    {
     "name": "stdout",
     "output_type": "stream",
     "text": [
      "No artist data found.\n"
     ]
    },
    {
     "name": "stderr",
     "output_type": "stream",
     "text": [
      "100%|█████████▉| 259/260 [06:54<00:01,  1.61s/it]"
     ]
    },
    {
     "name": "stdout",
     "output_type": "stream",
     "text": [
      "No artist information found.\n"
     ]
    },
    {
     "name": "stderr",
     "output_type": "stream",
     "text": [
      "100%|██████████| 260/260 [06:55<00:00,  1.60s/it]\n"
     ]
    },
    {
     "data": {
      "text/html": [
       "<div>\n",
       "<style scoped>\n",
       "    .dataframe tbody tr th:only-of-type {\n",
       "        vertical-align: middle;\n",
       "    }\n",
       "\n",
       "    .dataframe tbody tr th {\n",
       "        vertical-align: top;\n",
       "    }\n",
       "\n",
       "    .dataframe thead th {\n",
       "        text-align: right;\n",
       "    }\n",
       "</style>\n",
       "<table border=\"1\" class=\"dataframe\">\n",
       "  <thead>\n",
       "    <tr style=\"text-align: right;\">\n",
       "      <th></th>\n",
       "      <th>Artist</th>\n",
       "      <th>id</th>\n",
       "      <th>Country</th>\n",
       "      <th>Type</th>\n",
       "      <th>Gender</th>\n",
       "      <th>Rating</th>\n",
       "      <th>Tags</th>\n",
       "    </tr>\n",
       "  </thead>\n",
       "  <tbody>\n",
       "    <tr>\n",
       "      <th>0</th>\n",
       "      <td>ROSÉ</td>\n",
       "      <td>7f233cda-eacb-4235-b681-5f7be343a1a2</td>\n",
       "      <td>KR</td>\n",
       "      <td>Person</td>\n",
       "      <td>Female</td>\n",
       "      <td>{'votes-count': 1, 'value': 5}</td>\n",
       "      <td>[{'count': 2, 'name': 'k-pop'}, {'name': 'kore...</td>\n",
       "    </tr>\n",
       "    <tr>\n",
       "      <th>1</th>\n",
       "      <td>Bruno Mars</td>\n",
       "      <td>afb680f2-b6eb-4cd7-a70b-a63b25c763d5</td>\n",
       "      <td>US</td>\n",
       "      <td>Person</td>\n",
       "      <td>Male</td>\n",
       "      <td>{'votes-count': 4, 'value': 3.75}</td>\n",
       "      <td>[{'name': '2010s', 'count': 1}, {'name': 'funk...</td>\n",
       "    </tr>\n",
       "    <tr>\n",
       "      <th>2</th>\n",
       "      <td>Mariah Carey</td>\n",
       "      <td>494e8d09-f85b-4543-892f-a5096aed1cd4</td>\n",
       "      <td>US</td>\n",
       "      <td>Person</td>\n",
       "      <td>Female</td>\n",
       "      <td>{'value': 4.4, 'votes-count': 13}</td>\n",
       "      <td>[{'name': '1990s', 'count': 1}, {'count': 1, '...</td>\n",
       "    </tr>\n",
       "    <tr>\n",
       "      <th>3</th>\n",
       "      <td>Wham!</td>\n",
       "      <td>d570bb31-b9ca-45a4-a2d9-11b186d9c159</td>\n",
       "      <td>GB</td>\n",
       "      <td>Group</td>\n",
       "      <td>None</td>\n",
       "      <td>{'value': 4.65, 'votes-count': 3}</td>\n",
       "      <td>[{'name': 'christmas music', 'count': 1}, {'co...</td>\n",
       "    </tr>\n",
       "    <tr>\n",
       "      <th>4</th>\n",
       "      <td>Lady Gaga</td>\n",
       "      <td>650e7db6-b795-4eb5-a702-5ea2fc46c848</td>\n",
       "      <td>US</td>\n",
       "      <td>Person</td>\n",
       "      <td>Female</td>\n",
       "      <td>{'votes-count': 20, 'value': 4.2}</td>\n",
       "      <td>[{'count': 1, 'name': '2000s'}, {'count': 2, '...</td>\n",
       "    </tr>\n",
       "    <tr>\n",
       "      <th>...</th>\n",
       "      <td>...</td>\n",
       "      <td>...</td>\n",
       "      <td>...</td>\n",
       "      <td>...</td>\n",
       "      <td>...</td>\n",
       "      <td>...</td>\n",
       "      <td>...</td>\n",
       "    </tr>\n",
       "    <tr>\n",
       "      <th>254</th>\n",
       "      <td>ROSÉ</td>\n",
       "      <td>7f233cda-eacb-4235-b681-5f7be343a1a2</td>\n",
       "      <td>KR</td>\n",
       "      <td>Person</td>\n",
       "      <td>Female</td>\n",
       "      <td>{'value': 5, 'votes-count': 1}</td>\n",
       "      <td>[{'name': 'k-pop', 'count': 2}, {'count': 1, '...</td>\n",
       "    </tr>\n",
       "    <tr>\n",
       "      <th>255</th>\n",
       "      <td>Jordan Adetunji</td>\n",
       "      <td>4587105d-7469-480a-9ed5-1513af9a91c9</td>\n",
       "      <td>None</td>\n",
       "      <td>Person</td>\n",
       "      <td>Male</td>\n",
       "      <td>{'votes-count': 0, 'value': None}</td>\n",
       "      <td>[]</td>\n",
       "    </tr>\n",
       "    <tr>\n",
       "      <th>256</th>\n",
       "      <td>Feid</td>\n",
       "      <td>eaee97f6-f2e4-414a-966c-f31a1fb4696a</td>\n",
       "      <td>CO</td>\n",
       "      <td>Person</td>\n",
       "      <td>Male</td>\n",
       "      <td>{'value': 4.5, 'votes-count': 2}</td>\n",
       "      <td>[{'count': 2, 'name': 'latin'}, {'count': 2, '...</td>\n",
       "    </tr>\n",
       "    <tr>\n",
       "      <th>257</th>\n",
       "      <td>DFZM</td>\n",
       "      <td>1fa4f65f-72d1-4261-93e7-db73ce7d58aa</td>\n",
       "      <td>None</td>\n",
       "      <td>Person</td>\n",
       "      <td>Male</td>\n",
       "      <td>{'value': None, 'votes-count': 0}</td>\n",
       "      <td>[]</td>\n",
       "    </tr>\n",
       "    <tr>\n",
       "      <th>258</th>\n",
       "      <td>Ovy on the Drums</td>\n",
       "      <td>9670119d-7c83-4dc2-b864-de820edf9ecd</td>\n",
       "      <td>CO</td>\n",
       "      <td>Person</td>\n",
       "      <td>Male</td>\n",
       "      <td>{'votes-count': 0, 'value': None}</td>\n",
       "      <td>[{'name': 'latin', 'count': 1}, {'name': 'regg...</td>\n",
       "    </tr>\n",
       "  </tbody>\n",
       "</table>\n",
       "<p>245 rows × 7 columns</p>\n",
       "</div>"
      ],
      "text/plain": [
       "               Artist                                    id Country    Type  \\\n",
       "0                ROSÉ  7f233cda-eacb-4235-b681-5f7be343a1a2      KR  Person   \n",
       "1          Bruno Mars  afb680f2-b6eb-4cd7-a70b-a63b25c763d5      US  Person   \n",
       "2        Mariah Carey  494e8d09-f85b-4543-892f-a5096aed1cd4      US  Person   \n",
       "3               Wham!  d570bb31-b9ca-45a4-a2d9-11b186d9c159      GB   Group   \n",
       "4           Lady Gaga  650e7db6-b795-4eb5-a702-5ea2fc46c848      US  Person   \n",
       "..                ...                                   ...     ...     ...   \n",
       "254              ROSÉ  7f233cda-eacb-4235-b681-5f7be343a1a2      KR  Person   \n",
       "255   Jordan Adetunji  4587105d-7469-480a-9ed5-1513af9a91c9    None  Person   \n",
       "256              Feid  eaee97f6-f2e4-414a-966c-f31a1fb4696a      CO  Person   \n",
       "257              DFZM  1fa4f65f-72d1-4261-93e7-db73ce7d58aa    None  Person   \n",
       "258  Ovy on the Drums  9670119d-7c83-4dc2-b864-de820edf9ecd      CO  Person   \n",
       "\n",
       "     Gender                             Rating  \\\n",
       "0    Female     {'votes-count': 1, 'value': 5}   \n",
       "1      Male  {'votes-count': 4, 'value': 3.75}   \n",
       "2    Female  {'value': 4.4, 'votes-count': 13}   \n",
       "3      None  {'value': 4.65, 'votes-count': 3}   \n",
       "4    Female  {'votes-count': 20, 'value': 4.2}   \n",
       "..      ...                                ...   \n",
       "254  Female     {'value': 5, 'votes-count': 1}   \n",
       "255    Male  {'votes-count': 0, 'value': None}   \n",
       "256    Male   {'value': 4.5, 'votes-count': 2}   \n",
       "257    Male  {'value': None, 'votes-count': 0}   \n",
       "258    Male  {'votes-count': 0, 'value': None}   \n",
       "\n",
       "                                                  Tags  \n",
       "0    [{'count': 2, 'name': 'k-pop'}, {'name': 'kore...  \n",
       "1    [{'name': '2010s', 'count': 1}, {'name': 'funk...  \n",
       "2    [{'name': '1990s', 'count': 1}, {'count': 1, '...  \n",
       "3    [{'name': 'christmas music', 'count': 1}, {'co...  \n",
       "4    [{'count': 1, 'name': '2000s'}, {'count': 2, '...  \n",
       "..                                                 ...  \n",
       "254  [{'name': 'k-pop', 'count': 2}, {'count': 1, '...  \n",
       "255                                                 []  \n",
       "256  [{'count': 2, 'name': 'latin'}, {'count': 2, '...  \n",
       "257                                                 []  \n",
       "258  [{'name': 'latin', 'count': 1}, {'name': 'regg...  \n",
       "\n",
       "[245 rows x 7 columns]"
      ]
     },
     "execution_count": 84,
     "metadata": {},
     "output_type": "execute_result"
    }
   ],
   "source": [
    "df_artists = fetch_artist_data(all_artists)\n",
    "        \n",
    "df_artists"
   ]
  },
  {
   "cell_type": "code",
   "execution_count": 85,
   "metadata": {},
   "outputs": [
    {
     "data": {
      "text/html": [
       "<div>\n",
       "<style scoped>\n",
       "    .dataframe tbody tr th:only-of-type {\n",
       "        vertical-align: middle;\n",
       "    }\n",
       "\n",
       "    .dataframe tbody tr th {\n",
       "        vertical-align: top;\n",
       "    }\n",
       "\n",
       "    .dataframe thead th {\n",
       "        text-align: right;\n",
       "    }\n",
       "</style>\n",
       "<table border=\"1\" class=\"dataframe\">\n",
       "  <thead>\n",
       "    <tr style=\"text-align: right;\">\n",
       "      <th></th>\n",
       "      <th>Artist</th>\n",
       "      <th>id</th>\n",
       "      <th>Country</th>\n",
       "      <th>Type</th>\n",
       "      <th>Gender</th>\n",
       "      <th>Tags</th>\n",
       "      <th>RatingValue</th>\n",
       "      <th>RatingCount</th>\n",
       "    </tr>\n",
       "  </thead>\n",
       "  <tbody>\n",
       "    <tr>\n",
       "      <th>0</th>\n",
       "      <td>ROSÉ</td>\n",
       "      <td>7f233cda-eacb-4235-b681-5f7be343a1a2</td>\n",
       "      <td>KR</td>\n",
       "      <td>Person</td>\n",
       "      <td>Female</td>\n",
       "      <td>[k-pop, korean ballad]</td>\n",
       "      <td>5.00</td>\n",
       "      <td>1</td>\n",
       "    </tr>\n",
       "    <tr>\n",
       "      <th>1</th>\n",
       "      <td>Bruno Mars</td>\n",
       "      <td>afb680f2-b6eb-4cd7-a70b-a63b25c763d5</td>\n",
       "      <td>US</td>\n",
       "      <td>Person</td>\n",
       "      <td>Male</td>\n",
       "      <td>[2010s, funk, music for soccer moms, pop, r&amp;b,...</td>\n",
       "      <td>3.75</td>\n",
       "      <td>4</td>\n",
       "    </tr>\n",
       "    <tr>\n",
       "      <th>2</th>\n",
       "      <td>Mariah Carey</td>\n",
       "      <td>494e8d09-f85b-4543-892f-a5096aed1cd4</td>\n",
       "      <td>US</td>\n",
       "      <td>Person</td>\n",
       "      <td>Female</td>\n",
       "      <td>[1990s, 2000s, 90s, adult contemporary, christ...</td>\n",
       "      <td>4.40</td>\n",
       "      <td>13</td>\n",
       "    </tr>\n",
       "    <tr>\n",
       "      <th>3</th>\n",
       "      <td>Wham!</td>\n",
       "      <td>d570bb31-b9ca-45a4-a2d9-11b186d9c159</td>\n",
       "      <td>GB</td>\n",
       "      <td>Group</td>\n",
       "      <td>None</td>\n",
       "      <td>[christmas music, dance-pop, pop, queer]</td>\n",
       "      <td>4.65</td>\n",
       "      <td>3</td>\n",
       "    </tr>\n",
       "    <tr>\n",
       "      <th>4</th>\n",
       "      <td>Lady Gaga</td>\n",
       "      <td>650e7db6-b795-4eb5-a702-5ea2fc46c848</td>\n",
       "      <td>US</td>\n",
       "      <td>Person</td>\n",
       "      <td>Female</td>\n",
       "      <td>[2000s, 2010s, 2020s, adult contemporary, amer...</td>\n",
       "      <td>4.20</td>\n",
       "      <td>20</td>\n",
       "    </tr>\n",
       "    <tr>\n",
       "      <th>...</th>\n",
       "      <td>...</td>\n",
       "      <td>...</td>\n",
       "      <td>...</td>\n",
       "      <td>...</td>\n",
       "      <td>...</td>\n",
       "      <td>...</td>\n",
       "      <td>...</td>\n",
       "      <td>...</td>\n",
       "    </tr>\n",
       "    <tr>\n",
       "      <th>254</th>\n",
       "      <td>ROSÉ</td>\n",
       "      <td>7f233cda-eacb-4235-b681-5f7be343a1a2</td>\n",
       "      <td>KR</td>\n",
       "      <td>Person</td>\n",
       "      <td>Female</td>\n",
       "      <td>[k-pop, korean ballad]</td>\n",
       "      <td>5.00</td>\n",
       "      <td>1</td>\n",
       "    </tr>\n",
       "    <tr>\n",
       "      <th>255</th>\n",
       "      <td>Jordan Adetunji</td>\n",
       "      <td>4587105d-7469-480a-9ed5-1513af9a91c9</td>\n",
       "      <td>None</td>\n",
       "      <td>Person</td>\n",
       "      <td>Male</td>\n",
       "      <td>None</td>\n",
       "      <td>NaN</td>\n",
       "      <td>0</td>\n",
       "    </tr>\n",
       "    <tr>\n",
       "      <th>256</th>\n",
       "      <td>Feid</td>\n",
       "      <td>eaee97f6-f2e4-414a-966c-f31a1fb4696a</td>\n",
       "      <td>CO</td>\n",
       "      <td>Person</td>\n",
       "      <td>Male</td>\n",
       "      <td>[latin, latin urban, reggaeton, trap latino]</td>\n",
       "      <td>4.50</td>\n",
       "      <td>2</td>\n",
       "    </tr>\n",
       "    <tr>\n",
       "      <th>257</th>\n",
       "      <td>DFZM</td>\n",
       "      <td>1fa4f65f-72d1-4261-93e7-db73ce7d58aa</td>\n",
       "      <td>None</td>\n",
       "      <td>Person</td>\n",
       "      <td>Male</td>\n",
       "      <td>None</td>\n",
       "      <td>NaN</td>\n",
       "      <td>0</td>\n",
       "    </tr>\n",
       "    <tr>\n",
       "      <th>258</th>\n",
       "      <td>Ovy on the Drums</td>\n",
       "      <td>9670119d-7c83-4dc2-b864-de820edf9ecd</td>\n",
       "      <td>CO</td>\n",
       "      <td>Person</td>\n",
       "      <td>Male</td>\n",
       "      <td>[latin, reggaeton]</td>\n",
       "      <td>NaN</td>\n",
       "      <td>0</td>\n",
       "    </tr>\n",
       "  </tbody>\n",
       "</table>\n",
       "<p>245 rows × 8 columns</p>\n",
       "</div>"
      ],
      "text/plain": [
       "               Artist                                    id Country    Type  \\\n",
       "0                ROSÉ  7f233cda-eacb-4235-b681-5f7be343a1a2      KR  Person   \n",
       "1          Bruno Mars  afb680f2-b6eb-4cd7-a70b-a63b25c763d5      US  Person   \n",
       "2        Mariah Carey  494e8d09-f85b-4543-892f-a5096aed1cd4      US  Person   \n",
       "3               Wham!  d570bb31-b9ca-45a4-a2d9-11b186d9c159      GB   Group   \n",
       "4           Lady Gaga  650e7db6-b795-4eb5-a702-5ea2fc46c848      US  Person   \n",
       "..                ...                                   ...     ...     ...   \n",
       "254              ROSÉ  7f233cda-eacb-4235-b681-5f7be343a1a2      KR  Person   \n",
       "255   Jordan Adetunji  4587105d-7469-480a-9ed5-1513af9a91c9    None  Person   \n",
       "256              Feid  eaee97f6-f2e4-414a-966c-f31a1fb4696a      CO  Person   \n",
       "257              DFZM  1fa4f65f-72d1-4261-93e7-db73ce7d58aa    None  Person   \n",
       "258  Ovy on the Drums  9670119d-7c83-4dc2-b864-de820edf9ecd      CO  Person   \n",
       "\n",
       "     Gender                                               Tags  RatingValue  \\\n",
       "0    Female                             [k-pop, korean ballad]         5.00   \n",
       "1      Male  [2010s, funk, music for soccer moms, pop, r&b,...         3.75   \n",
       "2    Female  [1990s, 2000s, 90s, adult contemporary, christ...         4.40   \n",
       "3      None           [christmas music, dance-pop, pop, queer]         4.65   \n",
       "4    Female  [2000s, 2010s, 2020s, adult contemporary, amer...         4.20   \n",
       "..      ...                                                ...          ...   \n",
       "254  Female                             [k-pop, korean ballad]         5.00   \n",
       "255    Male                                               None          NaN   \n",
       "256    Male       [latin, latin urban, reggaeton, trap latino]         4.50   \n",
       "257    Male                                               None          NaN   \n",
       "258    Male                                 [latin, reggaeton]          NaN   \n",
       "\n",
       "     RatingCount  \n",
       "0              1  \n",
       "1              4  \n",
       "2             13  \n",
       "3              3  \n",
       "4             20  \n",
       "..           ...  \n",
       "254            1  \n",
       "255            0  \n",
       "256            2  \n",
       "257            0  \n",
       "258            0  \n",
       "\n",
       "[245 rows x 8 columns]"
      ]
     },
     "execution_count": 85,
     "metadata": {},
     "output_type": "execute_result"
    }
   ],
   "source": [
    "# Divide the 'Rating' column in two (value and count)\n",
    "df_artists['RatingValue'] = df_artists['Rating'].apply(lambda x: x.get('value') if x else None)\n",
    "df_artists['RatingCount'] = df_artists['Rating'].apply(lambda x: x.get('votes-count') if x else None)\n",
    "\n",
    "# Remove the 'Rating' column\n",
    "df_artists.drop(columns=['Rating'], inplace=True)\n",
    "\n",
    "# Simplify the 'Tags' column (keep only the names)\n",
    "df_artists['Tags'] = df_artists['Tags'].apply(lambda x: [tag['name'] for tag in x] if x else None)\n",
    "\n",
    "df_artists"
   ]
  },
  {
   "cell_type": "code",
   "execution_count": 86,
   "metadata": {},
   "outputs": [
    {
     "data": {
      "text/html": [
       "<div>\n",
       "<style scoped>\n",
       "    .dataframe tbody tr th:only-of-type {\n",
       "        vertical-align: middle;\n",
       "    }\n",
       "\n",
       "    .dataframe tbody tr th {\n",
       "        vertical-align: top;\n",
       "    }\n",
       "\n",
       "    .dataframe thead th {\n",
       "        text-align: right;\n",
       "    }\n",
       "</style>\n",
       "<table border=\"1\" class=\"dataframe\">\n",
       "  <thead>\n",
       "    <tr style=\"text-align: right;\">\n",
       "      <th></th>\n",
       "      <th>Artist</th>\n",
       "      <th>id</th>\n",
       "      <th>Country</th>\n",
       "      <th>Type</th>\n",
       "      <th>Gender</th>\n",
       "      <th>Tags</th>\n",
       "      <th>RatingValue</th>\n",
       "      <th>RatingCount</th>\n",
       "      <th>count</th>\n",
       "    </tr>\n",
       "  </thead>\n",
       "  <tbody>\n",
       "    <tr>\n",
       "      <th>1</th>\n",
       "      <td>Bruno Mars</td>\n",
       "      <td>afb680f2-b6eb-4cd7-a70b-a63b25c763d5</td>\n",
       "      <td>US</td>\n",
       "      <td>Person</td>\n",
       "      <td>Male</td>\n",
       "      <td>[2010s, funk, music for soccer moms, pop, r&amp;b,...</td>\n",
       "      <td>3.75</td>\n",
       "      <td>4</td>\n",
       "      <td>5</td>\n",
       "    </tr>\n",
       "    <tr>\n",
       "      <th>2</th>\n",
       "      <td>Mariah Carey</td>\n",
       "      <td>494e8d09-f85b-4543-892f-a5096aed1cd4</td>\n",
       "      <td>US</td>\n",
       "      <td>Person</td>\n",
       "      <td>Female</td>\n",
       "      <td>[1990s, 2000s, 90s, adult contemporary, christ...</td>\n",
       "      <td>4.40</td>\n",
       "      <td>13</td>\n",
       "      <td>1</td>\n",
       "    </tr>\n",
       "    <tr>\n",
       "      <th>3</th>\n",
       "      <td>Wham!</td>\n",
       "      <td>d570bb31-b9ca-45a4-a2d9-11b186d9c159</td>\n",
       "      <td>GB</td>\n",
       "      <td>Group</td>\n",
       "      <td>None</td>\n",
       "      <td>[christmas music, dance-pop, pop, queer]</td>\n",
       "      <td>4.65</td>\n",
       "      <td>3</td>\n",
       "      <td>1</td>\n",
       "    </tr>\n",
       "    <tr>\n",
       "      <th>4</th>\n",
       "      <td>Lady Gaga</td>\n",
       "      <td>650e7db6-b795-4eb5-a702-5ea2fc46c848</td>\n",
       "      <td>US</td>\n",
       "      <td>Person</td>\n",
       "      <td>Female</td>\n",
       "      <td>[2000s, 2010s, 2020s, adult contemporary, amer...</td>\n",
       "      <td>4.20</td>\n",
       "      <td>20</td>\n",
       "      <td>1</td>\n",
       "    </tr>\n",
       "    <tr>\n",
       "      <th>6</th>\n",
       "      <td>Brenda Lee</td>\n",
       "      <td>6ca4886a-8f77-4133-b404-46fb3908e24a</td>\n",
       "      <td>None</td>\n",
       "      <td>Person</td>\n",
       "      <td>Female</td>\n",
       "      <td>[2008 universal fire victim, american, classic...</td>\n",
       "      <td>4.50</td>\n",
       "      <td>2</td>\n",
       "      <td>1</td>\n",
       "    </tr>\n",
       "    <tr>\n",
       "      <th>...</th>\n",
       "      <td>...</td>\n",
       "      <td>...</td>\n",
       "      <td>...</td>\n",
       "      <td>...</td>\n",
       "      <td>...</td>\n",
       "      <td>...</td>\n",
       "      <td>...</td>\n",
       "      <td>...</td>\n",
       "      <td>...</td>\n",
       "    </tr>\n",
       "    <tr>\n",
       "      <th>250</th>\n",
       "      <td>Omar Courtz</td>\n",
       "      <td>61ee1029-4f35-43ce-83dd-2eb8d4eef85e</td>\n",
       "      <td>PR</td>\n",
       "      <td>Person</td>\n",
       "      <td>Male</td>\n",
       "      <td>None</td>\n",
       "      <td>NaN</td>\n",
       "      <td>0</td>\n",
       "      <td>1</td>\n",
       "    </tr>\n",
       "    <tr>\n",
       "      <th>251</th>\n",
       "      <td>De La Rose</td>\n",
       "      <td>3b245b6e-52db-4b72-b1a5-a52ab55bb51f</td>\n",
       "      <td>PR</td>\n",
       "      <td>Person</td>\n",
       "      <td>Female</td>\n",
       "      <td>None</td>\n",
       "      <td>NaN</td>\n",
       "      <td>0</td>\n",
       "      <td>1</td>\n",
       "    </tr>\n",
       "    <tr>\n",
       "      <th>252</th>\n",
       "      <td>The Chainsmokers</td>\n",
       "      <td>91a81925-92f9-4fc9-b897-93cf01226282</td>\n",
       "      <td>US</td>\n",
       "      <td>Group</td>\n",
       "      <td>None</td>\n",
       "      <td>[2010s, dance-pop, edm, electro house, electro...</td>\n",
       "      <td>4.50</td>\n",
       "      <td>2</td>\n",
       "      <td>1</td>\n",
       "    </tr>\n",
       "    <tr>\n",
       "      <th>255</th>\n",
       "      <td>Jordan Adetunji</td>\n",
       "      <td>4587105d-7469-480a-9ed5-1513af9a91c9</td>\n",
       "      <td>None</td>\n",
       "      <td>Person</td>\n",
       "      <td>Male</td>\n",
       "      <td>None</td>\n",
       "      <td>NaN</td>\n",
       "      <td>0</td>\n",
       "      <td>1</td>\n",
       "    </tr>\n",
       "    <tr>\n",
       "      <th>257</th>\n",
       "      <td>DFZM</td>\n",
       "      <td>1fa4f65f-72d1-4261-93e7-db73ce7d58aa</td>\n",
       "      <td>None</td>\n",
       "      <td>Person</td>\n",
       "      <td>Male</td>\n",
       "      <td>None</td>\n",
       "      <td>NaN</td>\n",
       "      <td>0</td>\n",
       "      <td>1</td>\n",
       "    </tr>\n",
       "  </tbody>\n",
       "</table>\n",
       "<p>128 rows × 9 columns</p>\n",
       "</div>"
      ],
      "text/plain": [
       "               Artist                                    id Country    Type  \\\n",
       "1          Bruno Mars  afb680f2-b6eb-4cd7-a70b-a63b25c763d5      US  Person   \n",
       "2        Mariah Carey  494e8d09-f85b-4543-892f-a5096aed1cd4      US  Person   \n",
       "3               Wham!  d570bb31-b9ca-45a4-a2d9-11b186d9c159      GB   Group   \n",
       "4           Lady Gaga  650e7db6-b795-4eb5-a702-5ea2fc46c848      US  Person   \n",
       "6          Brenda Lee  6ca4886a-8f77-4133-b404-46fb3908e24a    None  Person   \n",
       "..                ...                                   ...     ...     ...   \n",
       "250       Omar Courtz  61ee1029-4f35-43ce-83dd-2eb8d4eef85e      PR  Person   \n",
       "251        De La Rose  3b245b6e-52db-4b72-b1a5-a52ab55bb51f      PR  Person   \n",
       "252  The Chainsmokers  91a81925-92f9-4fc9-b897-93cf01226282      US   Group   \n",
       "255   Jordan Adetunji  4587105d-7469-480a-9ed5-1513af9a91c9    None  Person   \n",
       "257              DFZM  1fa4f65f-72d1-4261-93e7-db73ce7d58aa    None  Person   \n",
       "\n",
       "     Gender                                               Tags  RatingValue  \\\n",
       "1      Male  [2010s, funk, music for soccer moms, pop, r&b,...         3.75   \n",
       "2    Female  [1990s, 2000s, 90s, adult contemporary, christ...         4.40   \n",
       "3      None           [christmas music, dance-pop, pop, queer]         4.65   \n",
       "4    Female  [2000s, 2010s, 2020s, adult contemporary, amer...         4.20   \n",
       "6    Female  [2008 universal fire victim, american, classic...         4.50   \n",
       "..      ...                                                ...          ...   \n",
       "250    Male                                               None          NaN   \n",
       "251  Female                                               None          NaN   \n",
       "252    None  [2010s, dance-pop, edm, electro house, electro...         4.50   \n",
       "255    Male                                               None          NaN   \n",
       "257    Male                                               None          NaN   \n",
       "\n",
       "     RatingCount  count  \n",
       "1              4      5  \n",
       "2             13      1  \n",
       "3              3      1  \n",
       "4             20      1  \n",
       "6              2      1  \n",
       "..           ...    ...  \n",
       "250            0      1  \n",
       "251            0      1  \n",
       "252            2      1  \n",
       "255            0      1  \n",
       "257            0      1  \n",
       "\n",
       "[128 rows x 9 columns]"
      ]
     },
     "execution_count": 86,
     "metadata": {},
     "output_type": "execute_result"
    }
   ],
   "source": [
    "# Merge the two dataframes (df_artists and artist_counts)\n",
    "df_merged = pd.merge(df_artists, artist_counts, left_on='Artist', right_index=True, how='inner')\n",
    "\n",
    "# Remove lines with missing values for the 'count' column (remove mismatched artists)\n",
    "df_merged.dropna(subset=['count'], inplace=True)\n",
    "\n",
    "# Remove duplicate artists\n",
    "df_merged.drop_duplicates(subset=['Artist'], inplace=True)\n",
    "\n",
    "df_merged"
   ]
  },
  {
   "cell_type": "code",
   "execution_count": 87,
   "metadata": {},
   "outputs": [
    {
     "name": "stdout",
     "output_type": "stream",
     "text": [
      "Number of groups: 26\n",
      "Number of solo artists: 99\n",
      "Number of male artists: 70\n",
      "Number of female artists: 29\n"
     ]
    }
   ],
   "source": [
    "# Print the number of groups and solo artists\n",
    "print(\"Number of groups:\", df_merged[df_merged['Type'] == 'Group'].shape[0])\n",
    "print(\"Number of solo artists:\", df_merged[df_merged['Type'] == 'Person'].shape[0])\n",
    "\n",
    "# Print the number of male and female artists\n",
    "print(\"Number of male artists:\", df_merged[df_merged['Gender'] == 'Male'].shape[0])\n",
    "print(\"Number of female artists:\", df_merged[df_merged['Gender'] == 'Female'].shape[0])"
   ]
  },
  {
   "cell_type": "markdown",
   "metadata": {},
   "source": [
    "Premières visualisations (graphiques et statistiques) pour déterminer les tendances uniquement à partir des données du classement Billboard200"
   ]
  },
  {
   "cell_type": "code",
   "execution_count": 88,
   "metadata": {},
   "outputs": [
    {
     "data": {
      "application/vnd.plotly.v1+json": {
       "config": {
        "plotlyServerURL": "https://plot.ly"
       },
       "data": [
        {
         "coloraxis": "coloraxis",
         "geo": "geo",
         "hovertemplate": "<b>%{hovertext}</b><br><br>Country=%{location}<br>Count=%{z}<extra></extra>",
         "hovertext": [
          "USA",
          "GBR",
          "KOR",
          "PRI",
          "AUS",
          "CAN",
          "MEX",
          "FRA",
          "COL",
          "BEL",
          "IRL",
          "JPN"
         ],
         "locationmode": "ISO-3",
         "locations": [
          "USA",
          "GBR",
          "KOR",
          "PRI",
          "AUS",
          "CAN",
          "MEX",
          "FRA",
          "COL",
          "BEL",
          "IRL",
          "JPN"
         ],
         "name": "",
         "type": "choropleth",
         "z": [
          68,
          15,
          6,
          5,
          3,
          3,
          3,
          2,
          2,
          1,
          1,
          1
         ]
        }
       ],
       "layout": {
        "coloraxis": {
         "colorbar": {
          "title": {
           "text": "Count"
          }
         },
         "colorscale": [
          [
           0,
           "#0d0887"
          ],
          [
           0.1111111111111111,
           "#46039f"
          ],
          [
           0.2222222222222222,
           "#7201a8"
          ],
          [
           0.3333333333333333,
           "#9c179e"
          ],
          [
           0.4444444444444444,
           "#bd3786"
          ],
          [
           0.5555555555555556,
           "#d8576b"
          ],
          [
           0.6666666666666666,
           "#ed7953"
          ],
          [
           0.7777777777777778,
           "#fb9f3a"
          ],
          [
           0.8888888888888888,
           "#fdca26"
          ],
          [
           1,
           "#f0f921"
          ]
         ]
        },
        "geo": {
         "center": {},
         "domain": {
          "x": [
           0,
           1
          ],
          "y": [
           0,
           1
          ]
         }
        },
        "legend": {
         "tracegroupgap": 0
        },
        "template": {
         "data": {
          "bar": [
           {
            "error_x": {
             "color": "#2a3f5f"
            },
            "error_y": {
             "color": "#2a3f5f"
            },
            "marker": {
             "line": {
              "color": "#E5ECF6",
              "width": 0.5
             },
             "pattern": {
              "fillmode": "overlay",
              "size": 10,
              "solidity": 0.2
             }
            },
            "type": "bar"
           }
          ],
          "barpolar": [
           {
            "marker": {
             "line": {
              "color": "#E5ECF6",
              "width": 0.5
             },
             "pattern": {
              "fillmode": "overlay",
              "size": 10,
              "solidity": 0.2
             }
            },
            "type": "barpolar"
           }
          ],
          "carpet": [
           {
            "aaxis": {
             "endlinecolor": "#2a3f5f",
             "gridcolor": "white",
             "linecolor": "white",
             "minorgridcolor": "white",
             "startlinecolor": "#2a3f5f"
            },
            "baxis": {
             "endlinecolor": "#2a3f5f",
             "gridcolor": "white",
             "linecolor": "white",
             "minorgridcolor": "white",
             "startlinecolor": "#2a3f5f"
            },
            "type": "carpet"
           }
          ],
          "choropleth": [
           {
            "colorbar": {
             "outlinewidth": 0,
             "ticks": ""
            },
            "type": "choropleth"
           }
          ],
          "contour": [
           {
            "colorbar": {
             "outlinewidth": 0,
             "ticks": ""
            },
            "colorscale": [
             [
              0,
              "#0d0887"
             ],
             [
              0.1111111111111111,
              "#46039f"
             ],
             [
              0.2222222222222222,
              "#7201a8"
             ],
             [
              0.3333333333333333,
              "#9c179e"
             ],
             [
              0.4444444444444444,
              "#bd3786"
             ],
             [
              0.5555555555555556,
              "#d8576b"
             ],
             [
              0.6666666666666666,
              "#ed7953"
             ],
             [
              0.7777777777777778,
              "#fb9f3a"
             ],
             [
              0.8888888888888888,
              "#fdca26"
             ],
             [
              1,
              "#f0f921"
             ]
            ],
            "type": "contour"
           }
          ],
          "contourcarpet": [
           {
            "colorbar": {
             "outlinewidth": 0,
             "ticks": ""
            },
            "type": "contourcarpet"
           }
          ],
          "heatmap": [
           {
            "colorbar": {
             "outlinewidth": 0,
             "ticks": ""
            },
            "colorscale": [
             [
              0,
              "#0d0887"
             ],
             [
              0.1111111111111111,
              "#46039f"
             ],
             [
              0.2222222222222222,
              "#7201a8"
             ],
             [
              0.3333333333333333,
              "#9c179e"
             ],
             [
              0.4444444444444444,
              "#bd3786"
             ],
             [
              0.5555555555555556,
              "#d8576b"
             ],
             [
              0.6666666666666666,
              "#ed7953"
             ],
             [
              0.7777777777777778,
              "#fb9f3a"
             ],
             [
              0.8888888888888888,
              "#fdca26"
             ],
             [
              1,
              "#f0f921"
             ]
            ],
            "type": "heatmap"
           }
          ],
          "heatmapgl": [
           {
            "colorbar": {
             "outlinewidth": 0,
             "ticks": ""
            },
            "colorscale": [
             [
              0,
              "#0d0887"
             ],
             [
              0.1111111111111111,
              "#46039f"
             ],
             [
              0.2222222222222222,
              "#7201a8"
             ],
             [
              0.3333333333333333,
              "#9c179e"
             ],
             [
              0.4444444444444444,
              "#bd3786"
             ],
             [
              0.5555555555555556,
              "#d8576b"
             ],
             [
              0.6666666666666666,
              "#ed7953"
             ],
             [
              0.7777777777777778,
              "#fb9f3a"
             ],
             [
              0.8888888888888888,
              "#fdca26"
             ],
             [
              1,
              "#f0f921"
             ]
            ],
            "type": "heatmapgl"
           }
          ],
          "histogram": [
           {
            "marker": {
             "pattern": {
              "fillmode": "overlay",
              "size": 10,
              "solidity": 0.2
             }
            },
            "type": "histogram"
           }
          ],
          "histogram2d": [
           {
            "colorbar": {
             "outlinewidth": 0,
             "ticks": ""
            },
            "colorscale": [
             [
              0,
              "#0d0887"
             ],
             [
              0.1111111111111111,
              "#46039f"
             ],
             [
              0.2222222222222222,
              "#7201a8"
             ],
             [
              0.3333333333333333,
              "#9c179e"
             ],
             [
              0.4444444444444444,
              "#bd3786"
             ],
             [
              0.5555555555555556,
              "#d8576b"
             ],
             [
              0.6666666666666666,
              "#ed7953"
             ],
             [
              0.7777777777777778,
              "#fb9f3a"
             ],
             [
              0.8888888888888888,
              "#fdca26"
             ],
             [
              1,
              "#f0f921"
             ]
            ],
            "type": "histogram2d"
           }
          ],
          "histogram2dcontour": [
           {
            "colorbar": {
             "outlinewidth": 0,
             "ticks": ""
            },
            "colorscale": [
             [
              0,
              "#0d0887"
             ],
             [
              0.1111111111111111,
              "#46039f"
             ],
             [
              0.2222222222222222,
              "#7201a8"
             ],
             [
              0.3333333333333333,
              "#9c179e"
             ],
             [
              0.4444444444444444,
              "#bd3786"
             ],
             [
              0.5555555555555556,
              "#d8576b"
             ],
             [
              0.6666666666666666,
              "#ed7953"
             ],
             [
              0.7777777777777778,
              "#fb9f3a"
             ],
             [
              0.8888888888888888,
              "#fdca26"
             ],
             [
              1,
              "#f0f921"
             ]
            ],
            "type": "histogram2dcontour"
           }
          ],
          "mesh3d": [
           {
            "colorbar": {
             "outlinewidth": 0,
             "ticks": ""
            },
            "type": "mesh3d"
           }
          ],
          "parcoords": [
           {
            "line": {
             "colorbar": {
              "outlinewidth": 0,
              "ticks": ""
             }
            },
            "type": "parcoords"
           }
          ],
          "pie": [
           {
            "automargin": true,
            "type": "pie"
           }
          ],
          "scatter": [
           {
            "fillpattern": {
             "fillmode": "overlay",
             "size": 10,
             "solidity": 0.2
            },
            "type": "scatter"
           }
          ],
          "scatter3d": [
           {
            "line": {
             "colorbar": {
              "outlinewidth": 0,
              "ticks": ""
             }
            },
            "marker": {
             "colorbar": {
              "outlinewidth": 0,
              "ticks": ""
             }
            },
            "type": "scatter3d"
           }
          ],
          "scattercarpet": [
           {
            "marker": {
             "colorbar": {
              "outlinewidth": 0,
              "ticks": ""
             }
            },
            "type": "scattercarpet"
           }
          ],
          "scattergeo": [
           {
            "marker": {
             "colorbar": {
              "outlinewidth": 0,
              "ticks": ""
             }
            },
            "type": "scattergeo"
           }
          ],
          "scattergl": [
           {
            "marker": {
             "colorbar": {
              "outlinewidth": 0,
              "ticks": ""
             }
            },
            "type": "scattergl"
           }
          ],
          "scattermapbox": [
           {
            "marker": {
             "colorbar": {
              "outlinewidth": 0,
              "ticks": ""
             }
            },
            "type": "scattermapbox"
           }
          ],
          "scatterpolar": [
           {
            "marker": {
             "colorbar": {
              "outlinewidth": 0,
              "ticks": ""
             }
            },
            "type": "scatterpolar"
           }
          ],
          "scatterpolargl": [
           {
            "marker": {
             "colorbar": {
              "outlinewidth": 0,
              "ticks": ""
             }
            },
            "type": "scatterpolargl"
           }
          ],
          "scatterternary": [
           {
            "marker": {
             "colorbar": {
              "outlinewidth": 0,
              "ticks": ""
             }
            },
            "type": "scatterternary"
           }
          ],
          "surface": [
           {
            "colorbar": {
             "outlinewidth": 0,
             "ticks": ""
            },
            "colorscale": [
             [
              0,
              "#0d0887"
             ],
             [
              0.1111111111111111,
              "#46039f"
             ],
             [
              0.2222222222222222,
              "#7201a8"
             ],
             [
              0.3333333333333333,
              "#9c179e"
             ],
             [
              0.4444444444444444,
              "#bd3786"
             ],
             [
              0.5555555555555556,
              "#d8576b"
             ],
             [
              0.6666666666666666,
              "#ed7953"
             ],
             [
              0.7777777777777778,
              "#fb9f3a"
             ],
             [
              0.8888888888888888,
              "#fdca26"
             ],
             [
              1,
              "#f0f921"
             ]
            ],
            "type": "surface"
           }
          ],
          "table": [
           {
            "cells": {
             "fill": {
              "color": "#EBF0F8"
             },
             "line": {
              "color": "white"
             }
            },
            "header": {
             "fill": {
              "color": "#C8D4E3"
             },
             "line": {
              "color": "white"
             }
            },
            "type": "table"
           }
          ]
         },
         "layout": {
          "annotationdefaults": {
           "arrowcolor": "#2a3f5f",
           "arrowhead": 0,
           "arrowwidth": 1
          },
          "autotypenumbers": "strict",
          "coloraxis": {
           "colorbar": {
            "outlinewidth": 0,
            "ticks": ""
           }
          },
          "colorscale": {
           "diverging": [
            [
             0,
             "#8e0152"
            ],
            [
             0.1,
             "#c51b7d"
            ],
            [
             0.2,
             "#de77ae"
            ],
            [
             0.3,
             "#f1b6da"
            ],
            [
             0.4,
             "#fde0ef"
            ],
            [
             0.5,
             "#f7f7f7"
            ],
            [
             0.6,
             "#e6f5d0"
            ],
            [
             0.7,
             "#b8e186"
            ],
            [
             0.8,
             "#7fbc41"
            ],
            [
             0.9,
             "#4d9221"
            ],
            [
             1,
             "#276419"
            ]
           ],
           "sequential": [
            [
             0,
             "#0d0887"
            ],
            [
             0.1111111111111111,
             "#46039f"
            ],
            [
             0.2222222222222222,
             "#7201a8"
            ],
            [
             0.3333333333333333,
             "#9c179e"
            ],
            [
             0.4444444444444444,
             "#bd3786"
            ],
            [
             0.5555555555555556,
             "#d8576b"
            ],
            [
             0.6666666666666666,
             "#ed7953"
            ],
            [
             0.7777777777777778,
             "#fb9f3a"
            ],
            [
             0.8888888888888888,
             "#fdca26"
            ],
            [
             1,
             "#f0f921"
            ]
           ],
           "sequentialminus": [
            [
             0,
             "#0d0887"
            ],
            [
             0.1111111111111111,
             "#46039f"
            ],
            [
             0.2222222222222222,
             "#7201a8"
            ],
            [
             0.3333333333333333,
             "#9c179e"
            ],
            [
             0.4444444444444444,
             "#bd3786"
            ],
            [
             0.5555555555555556,
             "#d8576b"
            ],
            [
             0.6666666666666666,
             "#ed7953"
            ],
            [
             0.7777777777777778,
             "#fb9f3a"
            ],
            [
             0.8888888888888888,
             "#fdca26"
            ],
            [
             1,
             "#f0f921"
            ]
           ]
          },
          "colorway": [
           "#636efa",
           "#EF553B",
           "#00cc96",
           "#ab63fa",
           "#FFA15A",
           "#19d3f3",
           "#FF6692",
           "#B6E880",
           "#FF97FF",
           "#FECB52"
          ],
          "font": {
           "color": "#2a3f5f"
          },
          "geo": {
           "bgcolor": "white",
           "lakecolor": "white",
           "landcolor": "#E5ECF6",
           "showlakes": true,
           "showland": true,
           "subunitcolor": "white"
          },
          "hoverlabel": {
           "align": "left"
          },
          "hovermode": "closest",
          "mapbox": {
           "style": "light"
          },
          "paper_bgcolor": "white",
          "plot_bgcolor": "#E5ECF6",
          "polar": {
           "angularaxis": {
            "gridcolor": "white",
            "linecolor": "white",
            "ticks": ""
           },
           "bgcolor": "#E5ECF6",
           "radialaxis": {
            "gridcolor": "white",
            "linecolor": "white",
            "ticks": ""
           }
          },
          "scene": {
           "xaxis": {
            "backgroundcolor": "#E5ECF6",
            "gridcolor": "white",
            "gridwidth": 2,
            "linecolor": "white",
            "showbackground": true,
            "ticks": "",
            "zerolinecolor": "white"
           },
           "yaxis": {
            "backgroundcolor": "#E5ECF6",
            "gridcolor": "white",
            "gridwidth": 2,
            "linecolor": "white",
            "showbackground": true,
            "ticks": "",
            "zerolinecolor": "white"
           },
           "zaxis": {
            "backgroundcolor": "#E5ECF6",
            "gridcolor": "white",
            "gridwidth": 2,
            "linecolor": "white",
            "showbackground": true,
            "ticks": "",
            "zerolinecolor": "white"
           }
          },
          "shapedefaults": {
           "line": {
            "color": "#2a3f5f"
           }
          },
          "ternary": {
           "aaxis": {
            "gridcolor": "white",
            "linecolor": "white",
            "ticks": ""
           },
           "baxis": {
            "gridcolor": "white",
            "linecolor": "white",
            "ticks": ""
           },
           "bgcolor": "#E5ECF6",
           "caxis": {
            "gridcolor": "white",
            "linecolor": "white",
            "ticks": ""
           }
          },
          "title": {
           "x": 0.05
          },
          "xaxis": {
           "automargin": true,
           "gridcolor": "white",
           "linecolor": "white",
           "ticks": "",
           "title": {
            "standoff": 15
           },
           "zerolinecolor": "white",
           "zerolinewidth": 2
          },
          "yaxis": {
           "automargin": true,
           "gridcolor": "white",
           "linecolor": "white",
           "ticks": "",
           "title": {
            "standoff": 15
           },
           "zerolinecolor": "white",
           "zerolinewidth": 2
          }
         }
        },
        "title": {
         "text": "Number of Artists per Country"
        }
       }
      }
     },
     "metadata": {},
     "output_type": "display_data"
    }
   ],
   "source": [
    "# Count the number of artists per country\n",
    "country_counts = df_merged['Country'].value_counts().reset_index()\n",
    "country_counts.columns = ['Country', 'Count']\n",
    "\n",
    "cc = coco.CountryConverter()\n",
    "country_counts['Country'] = country_counts['Country'].apply(lambda x: cc.convert(names=x, to='ISO3'))\n",
    "\n",
    "# Create a choropleth map\n",
    "fig = px.choropleth(country_counts, \n",
    "                    locations=\"Country\", \n",
    "                    locationmode=\"ISO-3\", \n",
    "                    color=\"Count\", \n",
    "                    hover_name=\"Country\", \n",
    "                    color_continuous_scale=px.colors.sequential.Plasma,\n",
    "                    title=\"Number of Artists per Country\")\n",
    "\n",
    "fig.show()"
   ]
  },
  {
   "cell_type": "code",
   "execution_count": 89,
   "metadata": {},
   "outputs": [
    {
     "data": {
      "image/png": "[encoded data removed]",
      "text/plain": [
       "<Figure size 1000x600 with 1 Axes>"
      ]
     },
     "metadata": {},
     "output_type": "display_data"
    }
   ],
   "source": [
    "#Histogrammes (visualisation) pour déterminer les tendances\n",
    "\n",
    "# Histogramme des RatingValue\n",
    "plt.figure(figsize=(10, 6))\n",
    "sns.histplot(df_merged['RatingValue'].dropna(), kde=True, bins=25, color='skyblue')\n",
    "plt.title('Distribution de la notation des artistes')\n",
    "plt.xlabel('Note sur 5')\n",
    "plt.ylabel('Frequence')\n",
    "plt.show()\n",
    "\n"
   ]
  },
  {
   "cell_type": "code",
   "execution_count": 90,
   "metadata": {},
   "outputs": [
    {
     "data": {
      "image/png": "[encoded data removed]",
      "text/plain": [
       "<Figure size 1000x600 with 1 Axes>"
      ]
     },
     "metadata": {},
     "output_type": "display_data"
    }
   ],
   "source": [
    "# Les 10 pays les plus représentés\n",
    "country_counts = df_merged['Country'].value_counts().head(10)  \n",
    "\n",
    "# Histogramme\n",
    "plt.figure(figsize=(10, 6))\n",
    "country_counts.plot(kind='bar', color='lightblue')\n",
    "plt.title('Top 10 des pays les plus représentés dans le Billboard 200')\n",
    "plt.xlabel('Pays')\n",
    "plt.ylabel('Nombre d\\'artistes')\n",
    "plt.xticks(rotation=45)\n",
    "plt.tight_layout()\n",
    "plt.show()"
   ]
  },
  {
   "cell_type": "code",
   "execution_count": 91,
   "metadata": {},
   "outputs": [
    {
     "name": "stderr",
     "output_type": "stream",
     "text": [
      "C:\\Users\\natha\\AppData\\Local\\Temp\\ipykernel_21476\\4057551535.py:9: FutureWarning:\n",
      "\n",
      "\n",
      "\n",
      "Passing `palette` without assigning `hue` is deprecated and will be removed in v0.14.0. Assign the `x` variable to `hue` and set `legend=False` for the same effect.\n",
      "\n",
      "\n"
     ]
    },
    {
     "data": {
      "image/png": "[encoded data removed]",
      "text/plain": [
       "<Figure size 800x600 with 1 Axes>"
      ]
     },
     "metadata": {},
     "output_type": "display_data"
    }
   ],
   "source": [
    "import matplotlib.pyplot as plt\n",
    "import seaborn as sns\n",
    "\n",
    "# On compte le nombre de groupes et de solistes\n",
    "type_counts = df_merged['Type'].value_counts()\n",
    "\n",
    "# Le diagramme a barres\n",
    "plt.figure(figsize=(8, 6))\n",
    "sns.barplot(x=type_counts.index, y=type_counts.values, palette=\"Set1\")\n",
    "plt.title('Nombre de solistes vs nombre de groupes')\n",
    "plt.xlabel(\"Type d'artiste\")\n",
    "plt.ylabel(\"Nombre d'apparitions dans le classement\")\n",
    "plt.show()\n"
   ]
  },
  {
   "cell_type": "code",
   "execution_count": 92,
   "metadata": {},
   "outputs": [
    {
     "name": "stderr",
     "output_type": "stream",
     "text": [
      "C:\\Users\\natha\\AppData\\Local\\Temp\\ipykernel_21476\\2596082682.py:3: FutureWarning:\n",
      "\n",
      "\n",
      "\n",
      "Passing `palette` without assigning `hue` is deprecated and will be removed in v0.14.0. Assign the `x` variable to `hue` and set `legend=False` for the same effect.\n",
      "\n",
      "\n"
     ]
    },
    {
     "data": {
      "image/png": "[encoded data removed]",
      "text/plain": [
       "<Figure size 1000x600 with 1 Axes>"
      ]
     },
     "metadata": {},
     "output_type": "display_data"
    }
   ],
   "source": [
    "# Box plot pour le type d'artiste\n",
    "plt.figure(figsize=(10, 6))\n",
    "sns.boxplot(x='Type', y='RatingValue', data=df_merged, palette=\"Set1\")\n",
    "plt.title(\"Classement en fonction du type d'artiste (Soliste ou Groupe)\")\n",
    "plt.xlabel(\"Type d'artiste\")\n",
    "plt.ylabel('Valeur du rating')\n",
    "plt.show()\n"
   ]
  },
  {
   "cell_type": "code",
   "execution_count": 93,
   "metadata": {},
   "outputs": [
    {
     "name": "stderr",
     "output_type": "stream",
     "text": [
      "C:\\Users\\natha\\AppData\\Local\\Temp\\ipykernel_21476\\4166482494.py:5: FutureWarning:\n",
      "\n",
      "\n",
      "\n",
      "Passing `palette` without assigning `hue` is deprecated and will be removed in v0.14.0. Assign the `x` variable to `hue` and set `legend=False` for the same effect.\n",
      "\n",
      "\n"
     ]
    },
    {
     "data": {
      "image/png": "[encoded data removed]",
      "text/plain": [
       "<Figure size 800x600 with 1 Axes>"
      ]
     },
     "metadata": {},
     "output_type": "display_data"
    }
   ],
   "source": [
    "# Le genre des artistes\n",
    "gender_counts = df_merged['Gender'].value_counts()\n",
    "\n",
    "plt.figure(figsize=(8, 6))\n",
    "sns.barplot(x=gender_counts.index, y=gender_counts.values, palette=\"Set2\")\n",
    "plt.title('Le genre des artistes')\n",
    "plt.xlabel('Genre')\n",
    "plt.ylabel(\"Nombre d'apparitions dans le classement\")\n",
    "plt.show()\n"
   ]
  },
  {
   "cell_type": "code",
   "execution_count": 94,
   "metadata": {},
   "outputs": [
    {
     "name": "stderr",
     "output_type": "stream",
     "text": [
      "100%|██████████| 200/200 [08:38<00:00,  2.59s/it]\n"
     ]
    }
   ],
   "source": [
    "dataframe = fetch_lyrics(dataframe)"
   ]
  },
  {
   "cell_type": "markdown",
   "metadata": {},
   "source": [
    "Tentative NLP en fonction des paroles des chansons les plus célèbres"
   ]
  },
  {
   "cell_type": "code",
   "execution_count": 114,
   "metadata": {},
   "outputs": [
    {
     "name": "stderr",
     "output_type": "stream",
     "text": [
      "[nltk_data] Downloading package punkt to\n",
      "[nltk_data]     C:\\Users\\natha\\AppData\\Roaming\\nltk_data...\n",
      "[nltk_data]   Package punkt is already up-to-date!\n",
      "[nltk_data] Downloading package stopwords to\n",
      "[nltk_data]     C:\\Users\\natha\\AppData\\Roaming\\nltk_data...\n",
      "[nltk_data]   Package stopwords is already up-to-date!\n"
     ]
    },
    {
     "data": {
      "text/plain": [
       "[('like', 521),\n",
       " ('know', 373),\n",
       " ('love', 319),\n",
       " ('christmas', 295),\n",
       " ('got', 269),\n",
       " ('baby', 264),\n",
       " ('get', 253),\n",
       " ('wan', 237),\n",
       " ('one', 234),\n",
       " ('want', 217)]"
      ]
     },
     "execution_count": 114,
     "metadata": {},
     "output_type": "execute_result"
    }
   ],
   "source": [
    "from collections import Counter\n",
    "\n",
    "%run \"src/scripts/nltk.py\"\n",
    "\n",
    "# Tokenize the lyrics\n",
    "dataframe['LyricsTokenized'] = dataframe['Lyrics'].apply(tokenize_lyrics)\n",
    "\n",
    "# Count the occurrences of each word\n",
    "word_counts = Counter([word for sublist in dataframe['LyricsTokenized'] for word in sublist])\n",
    "\n",
    "# Print the most common words\n",
    "word_counts.most_common(10)"
   ]
  },
  {
   "cell_type": "code",
   "execution_count": 115,
   "metadata": {},
   "outputs": [
    {
     "data": {
      "image/png": "[encoded data removed]",
      "text/plain": [
       "<Figure size 1000x500 with 1 Axes>"
      ]
     },
     "metadata": {},
     "output_type": "display_data"
    }
   ],
   "source": [
    "# Generate a word cloud\n",
    "from wordcloud import WordCloud\n",
    "\n",
    "wordcloud = WordCloud(width=800, height=400, background_color ='white').generate_from_frequencies(word_counts)\n",
    "plt.figure(figsize=(10, 5))\n",
    "plt.imshow(wordcloud, interpolation='bilinear')\n",
    "plt.axis('off')\n",
    "plt.show()"
   ]
  },
  {
   "cell_type": "code",
   "execution_count": 116,
   "metadata": {},
   "outputs": [
    {
     "name": "stderr",
     "output_type": "stream",
     "text": [
      "[nltk_data] Downloading package vader_lexicon to\n",
      "[nltk_data]     C:\\Users\\natha\\AppData\\Roaming\\nltk_data...\n",
      "[nltk_data]   Package vader_lexicon is already up-to-date!\n"
     ]
    },
    {
     "data": {
      "text/html": [
       "<div>\n",
       "<style scoped>\n",
       "    .dataframe tbody tr th:only-of-type {\n",
       "        vertical-align: middle;\n",
       "    }\n",
       "\n",
       "    .dataframe tbody tr th {\n",
       "        vertical-align: top;\n",
       "    }\n",
       "\n",
       "    .dataframe thead th {\n",
       "        text-align: right;\n",
       "    }\n",
       "</style>\n",
       "<table border=\"1\" class=\"dataframe\">\n",
       "  <thead>\n",
       "    <tr style=\"text-align: right;\">\n",
       "      <th></th>\n",
       "      <th>Song</th>\n",
       "      <th>Artist</th>\n",
       "      <th>Lyrics</th>\n",
       "      <th>LyricsTokenized</th>\n",
       "      <th>Positive</th>\n",
       "      <th>Negative</th>\n",
       "      <th>Neutral</th>\n",
       "      <th>TopWords</th>\n",
       "    </tr>\n",
       "  </thead>\n",
       "  <tbody>\n",
       "    <tr>\n",
       "      <th>0</th>\n",
       "      <td>APT.</td>\n",
       "      <td>[Rosé, Bruno Mars]</td>\n",
       "      <td>\\nChaeyeongiga\\n joahaneun random game\\nRandom...</td>\n",
       "      <td>[chaeyeongiga, joahaneun, random, game, random...</td>\n",
       "      <td>0.205</td>\n",
       "      <td>0.053</td>\n",
       "      <td>0.742</td>\n",
       "      <td>[apateu, like, want, need, meet]</td>\n",
       "    </tr>\n",
       "    <tr>\n",
       "      <th>1</th>\n",
       "      <td>All I Want For Christmas Is You</td>\n",
       "      <td>[Mariah Carey]</td>\n",
       "      <td>\\nI don't want a lot for Christmas\\nThere is j...</td>\n",
       "      <td>[want, lot, christmas, one, thing, need, care,...</td>\n",
       "      <td>0.317</td>\n",
       "      <td>0.000</td>\n",
       "      <td>0.683</td>\n",
       "      <td>[want, christmas, baby, wo, make]</td>\n",
       "    </tr>\n",
       "    <tr>\n",
       "      <th>2</th>\n",
       "      <td>Last Christmas</td>\n",
       "      <td>[Wham!]</td>\n",
       "      <td>\\n\\nAh, ah-ah\\nOoh-woah\\nOh-oh\\n\\nLast Christm...</td>\n",
       "      <td>[last, christmas, gave, heart, next, day, gave...</td>\n",
       "      <td>0.308</td>\n",
       "      <td>0.128</td>\n",
       "      <td>0.564</td>\n",
       "      <td>[someone, give, gave, heart, special]</td>\n",
       "    </tr>\n",
       "    <tr>\n",
       "      <th>3</th>\n",
       "      <td>Die With A Smile</td>\n",
       "      <td>[Lady Gaga, Bruno Mars]</td>\n",
       "      <td>\\n\\n\\nI, I just woke up from a dream\\nWhere yo...</td>\n",
       "      <td>[woke, dream, say, goodbye, know, means, since...</td>\n",
       "      <td>0.317</td>\n",
       "      <td>0.160</td>\n",
       "      <td>0.523</td>\n",
       "      <td>[wan, next, world, ending, night]</td>\n",
       "    </tr>\n",
       "    <tr>\n",
       "      <th>4</th>\n",
       "      <td>Rockin' Around The Christmas Tree</td>\n",
       "      <td>[Brenda Lee]</td>\n",
       "      <td>\\nRockin' around the Christmas tree\\nAt the Ch...</td>\n",
       "      <td>[rockin, around, christmas, tree, christmas, p...</td>\n",
       "      <td>0.392</td>\n",
       "      <td>0.023</td>\n",
       "      <td>0.585</td>\n",
       "      <td>[christmas, rockin, around, tree, let]</td>\n",
       "    </tr>\n",
       "    <tr>\n",
       "      <th>...</th>\n",
       "      <td>...</td>\n",
       "      <td>...</td>\n",
       "      <td>...</td>\n",
       "      <td>...</td>\n",
       "      <td>...</td>\n",
       "      <td>...</td>\n",
       "      <td>...</td>\n",
       "      <td>...</td>\n",
       "    </tr>\n",
       "    <tr>\n",
       "      <th>195</th>\n",
       "      <td>Q U E V A S H A C E R H O Y ?</td>\n",
       "      <td>[Omar Courtz, De La Rose]</td>\n",
       "      <td>\\n\\n\\nComo nunca, hacerlo como— \\nVamo'-Vamo' ...</td>\n",
       "      <td>[nunca, hacerlo, hacerlo, hacerlo, nunca, nunc...</td>\n",
       "      <td>0.031</td>\n",
       "      <td>0.015</td>\n",
       "      <td>0.954</td>\n",
       "      <td>[bellaco, baby, pa, adentro, métele]</td>\n",
       "    </tr>\n",
       "    <tr>\n",
       "      <th>196</th>\n",
       "      <td>Something Just Like This</td>\n",
       "      <td>[The Chainsmokers, Coldplay]</td>\n",
       "      <td>\\nI've been reading books of old, the legends ...</td>\n",
       "      <td>[reading, books, old, legends, myths, achilles...</td>\n",
       "      <td>0.429</td>\n",
       "      <td>0.050</td>\n",
       "      <td>0.521</td>\n",
       "      <td>[something, want, like, doo, wan]</td>\n",
       "    </tr>\n",
       "    <tr>\n",
       "      <th>197</th>\n",
       "      <td>Stay A Little Longer</td>\n",
       "      <td>[Rosé]</td>\n",
       "      <td>\\nStay a little longer, take a little longer\\n...</td>\n",
       "      <td>[stay, little, longer, take, little, longer, p...</td>\n",
       "      <td>0.122</td>\n",
       "      <td>0.175</td>\n",
       "      <td>0.703</td>\n",
       "      <td>[stay, little, longer, babe, please]</td>\n",
       "    </tr>\n",
       "    <tr>\n",
       "      <th>198</th>\n",
       "      <td>Kehlani</td>\n",
       "      <td>[Jordan Adetunji]</td>\n",
       "      <td>\\nRaise a cup up for all my day ones\\nTwo midd...</td>\n",
       "      <td>[raise, cup, day, ones, two, middle, fingers, ...</td>\n",
       "      <td>0.412</td>\n",
       "      <td>0.101</td>\n",
       "      <td>0.487</td>\n",
       "      <td>[good, life, put, alright, go]</td>\n",
       "    </tr>\n",
       "    <tr>\n",
       "      <th>199</th>\n",
       "      <td>+57</td>\n",
       "      <td>[Karol G, Feid, DFZM, Ovy On The Drums, J Balv...</td>\n",
       "      <td>\\n\\nColombia gang\\nO-O-Ovy On The Drums\\nWow\\n...</td>\n",
       "      <td>[colombia, gang, drums, wow, dijo, novio, iba,...</td>\n",
       "      <td>0.019</td>\n",
       "      <td>0.000</td>\n",
       "      <td>0.981</td>\n",
       "      <td>[pa, si, gang, novio, boca]</td>\n",
       "    </tr>\n",
       "  </tbody>\n",
       "</table>\n",
       "<p>200 rows × 8 columns</p>\n",
       "</div>"
      ],
      "text/plain": [
       "                                  Song  \\\n",
       "0                                 APT.   \n",
       "1      All I Want For Christmas Is You   \n",
       "2                       Last Christmas   \n",
       "3                     Die With A Smile   \n",
       "4    Rockin' Around The Christmas Tree   \n",
       "..                                 ...   \n",
       "195      Q U E V A S H A C E R H O Y ?   \n",
       "196           Something Just Like This   \n",
       "197               Stay A Little Longer   \n",
       "198                            Kehlani   \n",
       "199                                +57   \n",
       "\n",
       "                                                Artist  \\\n",
       "0                                   [Rosé, Bruno Mars]   \n",
       "1                                       [Mariah Carey]   \n",
       "2                                              [Wham!]   \n",
       "3                              [Lady Gaga, Bruno Mars]   \n",
       "4                                         [Brenda Lee]   \n",
       "..                                                 ...   \n",
       "195                          [Omar Courtz, De La Rose]   \n",
       "196                       [The Chainsmokers, Coldplay]   \n",
       "197                                             [Rosé]   \n",
       "198                                  [Jordan Adetunji]   \n",
       "199  [Karol G, Feid, DFZM, Ovy On The Drums, J Balv...   \n",
       "\n",
       "                                                Lyrics  \\\n",
       "0    \\nChaeyeongiga\\n joahaneun random game\\nRandom...   \n",
       "1    \\nI don't want a lot for Christmas\\nThere is j...   \n",
       "2    \\n\\nAh, ah-ah\\nOoh-woah\\nOh-oh\\n\\nLast Christm...   \n",
       "3    \\n\\n\\nI, I just woke up from a dream\\nWhere yo...   \n",
       "4    \\nRockin' around the Christmas tree\\nAt the Ch...   \n",
       "..                                                 ...   \n",
       "195  \\n\\n\\nComo nunca, hacerlo como— \\nVamo'-Vamo' ...   \n",
       "196  \\nI've been reading books of old, the legends ...   \n",
       "197  \\nStay a little longer, take a little longer\\n...   \n",
       "198  \\nRaise a cup up for all my day ones\\nTwo midd...   \n",
       "199  \\n\\nColombia gang\\nO-O-Ovy On The Drums\\nWow\\n...   \n",
       "\n",
       "                                       LyricsTokenized  Positive  Negative  \\\n",
       "0    [chaeyeongiga, joahaneun, random, game, random...     0.205     0.053   \n",
       "1    [want, lot, christmas, one, thing, need, care,...     0.317     0.000   \n",
       "2    [last, christmas, gave, heart, next, day, gave...     0.308     0.128   \n",
       "3    [woke, dream, say, goodbye, know, means, since...     0.317     0.160   \n",
       "4    [rockin, around, christmas, tree, christmas, p...     0.392     0.023   \n",
       "..                                                 ...       ...       ...   \n",
       "195  [nunca, hacerlo, hacerlo, hacerlo, nunca, nunc...     0.031     0.015   \n",
       "196  [reading, books, old, legends, myths, achilles...     0.429     0.050   \n",
       "197  [stay, little, longer, take, little, longer, p...     0.122     0.175   \n",
       "198  [raise, cup, day, ones, two, middle, fingers, ...     0.412     0.101   \n",
       "199  [colombia, gang, drums, wow, dijo, novio, iba,...     0.019     0.000   \n",
       "\n",
       "     Neutral                                TopWords  \n",
       "0      0.742        [apateu, like, want, need, meet]  \n",
       "1      0.683       [want, christmas, baby, wo, make]  \n",
       "2      0.564   [someone, give, gave, heart, special]  \n",
       "3      0.523       [wan, next, world, ending, night]  \n",
       "4      0.585  [christmas, rockin, around, tree, let]  \n",
       "..       ...                                     ...  \n",
       "195    0.954    [bellaco, baby, pa, adentro, métele]  \n",
       "196    0.521       [something, want, like, doo, wan]  \n",
       "197    0.703    [stay, little, longer, babe, please]  \n",
       "198    0.487          [good, life, put, alright, go]  \n",
       "199    0.981             [pa, si, gang, novio, boca]  \n",
       "\n",
       "[200 rows x 8 columns]"
      ]
     },
     "execution_count": 116,
     "metadata": {},
     "output_type": "execute_result"
    }
   ],
   "source": [
    "# Analyze the sentiment of the lyrics\n",
    "dataframe['Sentiment'] = dataframe['LyricsTokenized'].apply(analyze_sentiment)\n",
    "\n",
    "# Divide the sentiment into positive, negative, and neutral\n",
    "dataframe['Positive'] = dataframe['Sentiment'].apply(lambda x: x['pos'])\n",
    "dataframe['Negative'] = dataframe['Sentiment'].apply(lambda x: x['neg'])\n",
    "dataframe['Neutral'] = dataframe['Sentiment'].apply(lambda x: x['neu'])\n",
    "\n",
    "# Remove the 'Sentiment' column\n",
    "dataframe.drop(columns=['Sentiment'], inplace=True)\n",
    "\n",
    "dataframe"
   ]
  },
  {
   "cell_type": "code",
   "execution_count": 117,
   "metadata": {},
   "outputs": [
    {
     "name": "stdout",
     "output_type": "stream",
     "text": [
      "Positive    0.23585\n",
      "dtype: float64\n",
      "Negative    0.123155\n",
      "dtype: float64\n",
      "Neutral    0.640995\n",
      "dtype: float64\n",
      "Saddest song: Ma Meilleure Ennemie by Stromae\n",
      "Score: 0.448\n",
      "Happiest song: Merry Christmas by Ed Sheeran\n",
      "Score: 0.635\n"
     ]
    }
   ],
   "source": [
    "# Mean of the sentiment scores\n",
    "print(dataframe[['Positive']].mean())\n",
    "print(dataframe[['Negative']].mean())\n",
    "print(dataframe[['Neutral']].mean())\n",
    "\n",
    "# Display the saddest song\n",
    "saddest_song = dataframe.loc[dataframe['Negative'].idxmax()]\n",
    "print(\"Saddest song:\", saddest_song['Song'] + \" by \" + saddest_song['Artist'][0])\n",
    "print(\"Score:\", saddest_song['Negative'])\n",
    "\n",
    "# Display the happiest song\n",
    "happiest_song = dataframe.loc[dataframe['Positive'].idxmax()]\n",
    "print(\"Happiest song:\", happiest_song['Song'] + \" by \" + happiest_song['Artist'][0])\n",
    "print(\"Score:\", happiest_song['Positive'])"
   ]
  },
  {
   "cell_type": "code",
   "execution_count": 118,
   "metadata": {},
   "outputs": [
    {
     "data": {
      "image/png": "[encoded data removed]",
      "text/plain": [
       "<Figure size 1200x800 with 1 Axes>"
      ]
     },
     "metadata": {},
     "output_type": "display_data"
    }
   ],
   "source": [
    "# Word embedding and visualization\n",
    "import spacy\n",
    "\n",
    "# Load the pre-trained model\n",
    "nlp = spacy.load('en_core_web_md')\n",
    "\n",
    "# Get the vector for the first 100 words\n",
    "vectors = [nlp(word).vector for word in list(word_counts.keys())[:50]]\n",
    "\n",
    "# Reduce the dimensionality of the vectors\n",
    "from sklearn.decomposition import PCA\n",
    "\n",
    "pca = PCA(n_components=2)\n",
    "vectors_2d = pca.fit_transform(vectors)\n",
    "\n",
    "# Create a dataframe\n",
    "df_vectors = pd.DataFrame(vectors_2d, columns=['x', 'y'])\n",
    "df_vectors['word'] = list(word_counts.keys())[:50]\n",
    "\n",
    "# Plot the words with their labels\n",
    "plt.figure(figsize=(12, 8))\n",
    "sns.scatterplot(data=df_vectors, x='x', y='y')\n",
    "for i, word in df_vectors.iterrows():\n",
    "    plt.text(word['x'], word['y'], word['word'])\n",
    "plt.title('Word Embedding')\n",
    "plt.xlabel('x')\n",
    "plt.ylabel('y')\n",
    "plt.show()"
   ]
  },
  {
   "cell_type": "code",
   "execution_count": 119,
   "metadata": {},
   "outputs": [
    {
     "data": {
      "text/html": [
       "<div>\n",
       "<style scoped>\n",
       "    .dataframe tbody tr th:only-of-type {\n",
       "        vertical-align: middle;\n",
       "    }\n",
       "\n",
       "    .dataframe tbody tr th {\n",
       "        vertical-align: top;\n",
       "    }\n",
       "\n",
       "    .dataframe thead th {\n",
       "        text-align: right;\n",
       "    }\n",
       "</style>\n",
       "<table border=\"1\" class=\"dataframe\">\n",
       "  <thead>\n",
       "    <tr style=\"text-align: right;\">\n",
       "      <th></th>\n",
       "      <th>Song</th>\n",
       "      <th>Artist</th>\n",
       "      <th>Lyrics</th>\n",
       "      <th>LyricsTokenized</th>\n",
       "      <th>Positive</th>\n",
       "      <th>Negative</th>\n",
       "      <th>Neutral</th>\n",
       "      <th>TopWords</th>\n",
       "    </tr>\n",
       "  </thead>\n",
       "  <tbody>\n",
       "    <tr>\n",
       "      <th>0</th>\n",
       "      <td>APT.</td>\n",
       "      <td>[Rosé, Bruno Mars]</td>\n",
       "      <td>\\nChaeyeongiga\\n joahaneun random game\\nRandom...</td>\n",
       "      <td>[chaeyeongiga, joahaneun, random, game, random...</td>\n",
       "      <td>0.205</td>\n",
       "      <td>0.053</td>\n",
       "      <td>0.742</td>\n",
       "      <td>[apateu, like, want, need, meet]</td>\n",
       "    </tr>\n",
       "    <tr>\n",
       "      <th>1</th>\n",
       "      <td>All I Want For Christmas Is You</td>\n",
       "      <td>[Mariah Carey]</td>\n",
       "      <td>\\nI don't want a lot for Christmas\\nThere is j...</td>\n",
       "      <td>[want, lot, christmas, one, thing, need, care,...</td>\n",
       "      <td>0.317</td>\n",
       "      <td>0.000</td>\n",
       "      <td>0.683</td>\n",
       "      <td>[want, christmas, baby, wo, make]</td>\n",
       "    </tr>\n",
       "    <tr>\n",
       "      <th>2</th>\n",
       "      <td>Last Christmas</td>\n",
       "      <td>[Wham!]</td>\n",
       "      <td>\\n\\nAh, ah-ah\\nOoh-woah\\nOh-oh\\n\\nLast Christm...</td>\n",
       "      <td>[last, christmas, gave, heart, next, day, gave...</td>\n",
       "      <td>0.308</td>\n",
       "      <td>0.128</td>\n",
       "      <td>0.564</td>\n",
       "      <td>[someone, give, gave, heart, special]</td>\n",
       "    </tr>\n",
       "    <tr>\n",
       "      <th>3</th>\n",
       "      <td>Die With A Smile</td>\n",
       "      <td>[Lady Gaga, Bruno Mars]</td>\n",
       "      <td>\\n\\n\\nI, I just woke up from a dream\\nWhere yo...</td>\n",
       "      <td>[woke, dream, say, goodbye, know, means, since...</td>\n",
       "      <td>0.317</td>\n",
       "      <td>0.160</td>\n",
       "      <td>0.523</td>\n",
       "      <td>[wan, next, world, ending, night]</td>\n",
       "    </tr>\n",
       "    <tr>\n",
       "      <th>4</th>\n",
       "      <td>Rockin' Around The Christmas Tree</td>\n",
       "      <td>[Brenda Lee]</td>\n",
       "      <td>\\nRockin' around the Christmas tree\\nAt the Ch...</td>\n",
       "      <td>[rockin, around, christmas, tree, christmas, p...</td>\n",
       "      <td>0.392</td>\n",
       "      <td>0.023</td>\n",
       "      <td>0.585</td>\n",
       "      <td>[christmas, rockin, around, tree, let]</td>\n",
       "    </tr>\n",
       "    <tr>\n",
       "      <th>...</th>\n",
       "      <td>...</td>\n",
       "      <td>...</td>\n",
       "      <td>...</td>\n",
       "      <td>...</td>\n",
       "      <td>...</td>\n",
       "      <td>...</td>\n",
       "      <td>...</td>\n",
       "      <td>...</td>\n",
       "    </tr>\n",
       "    <tr>\n",
       "      <th>195</th>\n",
       "      <td>Q U E V A S H A C E R H O Y ?</td>\n",
       "      <td>[Omar Courtz, De La Rose]</td>\n",
       "      <td>\\n\\n\\nComo nunca, hacerlo como— \\nVamo'-Vamo' ...</td>\n",
       "      <td>[nunca, hacerlo, hacerlo, hacerlo, nunca, nunc...</td>\n",
       "      <td>0.031</td>\n",
       "      <td>0.015</td>\n",
       "      <td>0.954</td>\n",
       "      <td>[bellaco, baby, pa, adentro, métele]</td>\n",
       "    </tr>\n",
       "    <tr>\n",
       "      <th>196</th>\n",
       "      <td>Something Just Like This</td>\n",
       "      <td>[The Chainsmokers, Coldplay]</td>\n",
       "      <td>\\nI've been reading books of old, the legends ...</td>\n",
       "      <td>[reading, books, old, legends, myths, achilles...</td>\n",
       "      <td>0.429</td>\n",
       "      <td>0.050</td>\n",
       "      <td>0.521</td>\n",
       "      <td>[something, want, like, wan, somebody]</td>\n",
       "    </tr>\n",
       "    <tr>\n",
       "      <th>197</th>\n",
       "      <td>Stay A Little Longer</td>\n",
       "      <td>[Rosé]</td>\n",
       "      <td>\\nStay a little longer, take a little longer\\n...</td>\n",
       "      <td>[stay, little, longer, take, little, longer, p...</td>\n",
       "      <td>0.122</td>\n",
       "      <td>0.175</td>\n",
       "      <td>0.703</td>\n",
       "      <td>[stay, little, longer, babe, please]</td>\n",
       "    </tr>\n",
       "    <tr>\n",
       "      <th>198</th>\n",
       "      <td>Kehlani</td>\n",
       "      <td>[Jordan Adetunji]</td>\n",
       "      <td>\\nRaise a cup up for all my day ones\\nTwo midd...</td>\n",
       "      <td>[raise, cup, day, ones, two, middle, fingers, ...</td>\n",
       "      <td>0.412</td>\n",
       "      <td>0.101</td>\n",
       "      <td>0.487</td>\n",
       "      <td>[good, life, put, alright, go]</td>\n",
       "    </tr>\n",
       "    <tr>\n",
       "      <th>199</th>\n",
       "      <td>+57</td>\n",
       "      <td>[Karol G, Feid, DFZM, Ovy On The Drums, J Balv...</td>\n",
       "      <td>\\n\\nColombia gang\\nO-O-Ovy On The Drums\\nWow\\n...</td>\n",
       "      <td>[colombia, gang, drums, wow, dijo, novio, iba,...</td>\n",
       "      <td>0.019</td>\n",
       "      <td>0.000</td>\n",
       "      <td>0.981</td>\n",
       "      <td>[pa, si, gang, novio, boca]</td>\n",
       "    </tr>\n",
       "  </tbody>\n",
       "</table>\n",
       "<p>200 rows × 8 columns</p>\n",
       "</div>"
      ],
      "text/plain": [
       "                                  Song  \\\n",
       "0                                 APT.   \n",
       "1      All I Want For Christmas Is You   \n",
       "2                       Last Christmas   \n",
       "3                     Die With A Smile   \n",
       "4    Rockin' Around The Christmas Tree   \n",
       "..                                 ...   \n",
       "195      Q U E V A S H A C E R H O Y ?   \n",
       "196           Something Just Like This   \n",
       "197               Stay A Little Longer   \n",
       "198                            Kehlani   \n",
       "199                                +57   \n",
       "\n",
       "                                                Artist  \\\n",
       "0                                   [Rosé, Bruno Mars]   \n",
       "1                                       [Mariah Carey]   \n",
       "2                                              [Wham!]   \n",
       "3                              [Lady Gaga, Bruno Mars]   \n",
       "4                                         [Brenda Lee]   \n",
       "..                                                 ...   \n",
       "195                          [Omar Courtz, De La Rose]   \n",
       "196                       [The Chainsmokers, Coldplay]   \n",
       "197                                             [Rosé]   \n",
       "198                                  [Jordan Adetunji]   \n",
       "199  [Karol G, Feid, DFZM, Ovy On The Drums, J Balv...   \n",
       "\n",
       "                                                Lyrics  \\\n",
       "0    \\nChaeyeongiga\\n joahaneun random game\\nRandom...   \n",
       "1    \\nI don't want a lot for Christmas\\nThere is j...   \n",
       "2    \\n\\nAh, ah-ah\\nOoh-woah\\nOh-oh\\n\\nLast Christm...   \n",
       "3    \\n\\n\\nI, I just woke up from a dream\\nWhere yo...   \n",
       "4    \\nRockin' around the Christmas tree\\nAt the Ch...   \n",
       "..                                                 ...   \n",
       "195  \\n\\n\\nComo nunca, hacerlo como— \\nVamo'-Vamo' ...   \n",
       "196  \\nI've been reading books of old, the legends ...   \n",
       "197  \\nStay a little longer, take a little longer\\n...   \n",
       "198  \\nRaise a cup up for all my day ones\\nTwo midd...   \n",
       "199  \\n\\nColombia gang\\nO-O-Ovy On The Drums\\nWow\\n...   \n",
       "\n",
       "                                       LyricsTokenized  Positive  Negative  \\\n",
       "0    [chaeyeongiga, joahaneun, random, game, random...     0.205     0.053   \n",
       "1    [want, lot, christmas, one, thing, need, care,...     0.317     0.000   \n",
       "2    [last, christmas, gave, heart, next, day, gave...     0.308     0.128   \n",
       "3    [woke, dream, say, goodbye, know, means, since...     0.317     0.160   \n",
       "4    [rockin, around, christmas, tree, christmas, p...     0.392     0.023   \n",
       "..                                                 ...       ...       ...   \n",
       "195  [nunca, hacerlo, hacerlo, hacerlo, nunca, nunc...     0.031     0.015   \n",
       "196  [reading, books, old, legends, myths, achilles...     0.429     0.050   \n",
       "197  [stay, little, longer, take, little, longer, p...     0.122     0.175   \n",
       "198  [raise, cup, day, ones, two, middle, fingers, ...     0.412     0.101   \n",
       "199  [colombia, gang, drums, wow, dijo, novio, iba,...     0.019     0.000   \n",
       "\n",
       "     Neutral                                TopWords  \n",
       "0      0.742        [apateu, like, want, need, meet]  \n",
       "1      0.683       [want, christmas, baby, wo, make]  \n",
       "2      0.564   [someone, give, gave, heart, special]  \n",
       "3      0.523       [wan, next, world, ending, night]  \n",
       "4      0.585  [christmas, rockin, around, tree, let]  \n",
       "..       ...                                     ...  \n",
       "195    0.954    [bellaco, baby, pa, adentro, métele]  \n",
       "196    0.521  [something, want, like, wan, somebody]  \n",
       "197    0.703    [stay, little, longer, babe, please]  \n",
       "198    0.487          [good, life, put, alright, go]  \n",
       "199    0.981             [pa, si, gang, novio, boca]  \n",
       "\n",
       "[200 rows x 8 columns]"
      ]
     },
     "execution_count": 119,
     "metadata": {},
     "output_type": "execute_result"
    }
   ],
   "source": [
    "# For each song, put the five most common words in a list and add them to the dataframe\n",
    "dataframe['TopWords'] = dataframe['LyricsTokenized'].apply(lambda x: [word for word, count in Counter(x).most_common(5)])\n",
    "\n",
    "dataframe\n"
   ]
  },
  {
   "cell_type": "code",
   "execution_count": 132,
   "metadata": {},
   "outputs": [
    {
     "name": "stdout",
     "output_type": "stream",
     "text": [
      "['2010s', 'funk', 'music for soccer moms', 'pop', 'r&b', 'relic inn', 'rock', 'soul', '1990s', '2000s', '90s', 'adult contemporary', 'christmas music', 'contemporary r&b', 'dance-pop', 'easy listening', 'english', 'hip hop', 'pop soul', 'quiet storm', 'queer', '2020s', 'americana', 'dance', 'electro house', 'electronic', 'electropop', 'film soundtrack', 'jazz', 'late 2000s', 'pop rock', 'synth-pop', 'synthpop', '2008 universal fire victim', 'american', 'classic pop and rock', 'country', 'rock and roll', 'rockabilly', 'alt-pop', 'alternative pop', 'alternative r&b', 'art pop', 'bedroom pop', 'dark pop', 'indie pop', 'pity pop', 'singer-songwriter', 'alternative hip hop', 'conscious hip hop', 'hardcore hip hop', 'jazz rap', 'pop rap', 'rap', 'trap', 'west coast hip hop', 'hip hop soul', 'neo soul', 'folk pop', 'trap soul', 'big band', 'country pop', 'standards', 'traditional pop', 'vocal jazz', 'easy listening soundtracks and musicals', 'australian', 'alternative rock', 'rhythm & blues', 'baroque pop', 'brill building', 'girl group', 'ballad', 'edm', 'hypnagogic pop', 'cloud rap', 'plugg', 'rage', 'southern hip hop', 'regional mexicano', 'indie folk', 'gay pop', 'french pop', 'hip house', 'ambient pop', 'chamber folk', 'chamber pop', 'chanson française', 'latin', 'latin urban', 'reggaeton', 'trap latino', 'latin trap', 'spanish', 'bachata', 'música tropical', 'blues', 'blues rock', 'folk rock', 'indie rock', 'folk', 'guitarist', 'singer', 'uk', 'british', 'piano rock', 'singer/songwriter', 'soft rock', '70s', '80s', 'classical', 'composer', 'grammy winner', 'male vocalists', 'pop/rock', 'rock & roll', 'the beatles', 'united kingdom', 'western classical music', 'teen pop', '3rd gen k-pop', 'electronica', 'k-pop', 'korean', '4th gen k-pop', 'likedis auto', 'anthology', 'swing', 'blue-eyed soul', 'gospel', 'rock n roll', 'rock-and-roll', 'criminal', 'gangsta rap', 'rap rock', 'corrido', 'corrido tumbado', 'nuno', 'alt rock', 'alternative metal', 'art rock', 'metal', 'nu metal', 'rap metal', 'rapcore', 'usa', 'welsh', 'classic rock', 'progressive pop', 'psychedelic pop', 'sunshine pop', 'surf rock', 'vocal surf', 'neo-psychedelia', '_fix whosampled dupe url', 'horrorcore', 'artist of the decade', 'contemporary country', 'cultural icon', 'female vocals', 'icon', 're-recording', 'a cappella', 'close harmony', 'vocal', 'country yodeling', 'cowboy', 'hillbilly', 'holiday music', 'traditional country', 'western', 'emo rap', 'look again', 'academy award winner', 'american composer', 'conductor', 'contemporary classical', 'film', 'film composer', 'film score', 'game', 'modern classical', 'orchestral', 'pianist', 'saga', 'score', 'server name', 'soundtrack', 'soundtracks', 'star wars', 'suboptimal credits', 'vgm', 'video game', 'western classical', 'experimental hip hop', 'country rock', 'latin pop', 'bro-country', 'new wave', 'post-punk', 'punk', 'reggae rock', 'british blues', 'electric blues', 'big music', 'britpop', 'dream pop', 'post-britpop', 'celtic folk music', 'celtic punk', 'celtic rock', 'folk punk', 'irish folk', 'boom bap', 'detroit', 'detroit hip hop', 'hip-hop', 'midwest hip hop', 'rap god', 'disco', 'electroclash', 'european', 'french', 'french electro', 'french house', 'french touch', 'house', 'nu-disco', 'vocoder', 'alternative country', 'alternative', 'electronic rock', 'experimental rock', 'post-grunge', 'bubblegum bass', 'deconstructed club', 'europop', 'hyperpop', 'pc music', '60th anniversary', 'andrews sisters', 'rnb', 'garage rock', 'indie', 'aor', 'arena rock', 'estados unidos', 'hard rock', 'prog related', 'jangle pop', \"you've got a friend\", '00s', 'boy band', 'indietronica', '5th gen k-pop', 'kpop', 'bubblegum pop', 'camp', 'power pop', 'future bass', 'satire']\n",
      "1      [2010s, funk, music for soccer moms, pop, r&b,...\n",
      "2      [1990s, 2000s, 90s, adult contemporary, christ...\n",
      "3               [christmas music, dance-pop, pop, queer]\n",
      "4      [2000s, 2010s, 2020s, adult contemporary, amer...\n",
      "6      [2008 universal fire victim, american, classic...\n",
      "                             ...                        \n",
      "250                                                 None\n",
      "251                                                 None\n",
      "252    [2010s, dance-pop, edm, electro house, electro...\n",
      "255                                                 None\n",
      "257                                                 None\n",
      "Name: Tags, Length: 128, dtype: object\n"
     ]
    },
    {
     "data": {
      "text/plain": [
       "{'2010s': [('like', 104),\n",
       "  ('love', 83),\n",
       "  ('baby', 64),\n",
       "  ('apateu', 59),\n",
       "  ('sticky', 59)],\n",
       " 'funk': [('apateu', 59),\n",
       "  ('like', 43),\n",
       "  ('know', 17),\n",
       "  ('wan', 17),\n",
       "  ('want', 15)],\n",
       " 'music for soccer moms': [('apateu', 59),\n",
       "  ('like', 55),\n",
       "  ('come', 45),\n",
       "  ('love', 35),\n",
       "  ('baby', 29)],\n",
       " 'pop': [('like', 307),\n",
       "  ('know', 221),\n",
       "  ('love', 169),\n",
       "  ('baby', 161),\n",
       "  ('get', 157)],\n",
       " 'r&b': [('like', 111),\n",
       "  ('think', 93),\n",
       "  ('want', 88),\n",
       "  ('know', 79),\n",
       "  ('one', 77)],\n",
       " 'relic inn': [('like', 64),\n",
       "  ('apateu', 59),\n",
       "  ('back', 29),\n",
       "  ('want', 16),\n",
       "  ('guess', 16)],\n",
       " 'rock': [('like', 90),\n",
       "  ('christmas', 79),\n",
       "  ('apateu', 59),\n",
       "  ('sticky', 59),\n",
       "  ('know', 54)],\n",
       " 'soul': [('apateu', 59),\n",
       "  ('like', 55),\n",
       "  ('want', 44),\n",
       "  ('baby', 37),\n",
       "  ('know', 37)],\n",
       " '1990s': [('bye', 33),\n",
       "  ('baby', 21),\n",
       "  ('wan', 17),\n",
       "  ('want', 16),\n",
       "  ('christmas', 16)],\n",
       " '2000s': [('sticky', 59),\n",
       "  ('gettin', 39),\n",
       "  ('wan', 36),\n",
       "  ('like', 33),\n",
       "  ('bye', 33)],\n",
       " '90s': [('bye', 33), ('back', 29), ('baby', 22), ('like', 22), ('want', 18)],\n",
       " 'adult contemporary': [('christmas', 44),\n",
       "  ('want', 16),\n",
       "  ('merry', 16),\n",
       "  ('wish', 14),\n",
       "  ('wan', 13)],\n",
       " 'christmas music': [('christmas', 46),\n",
       "  ('jingle', 30),\n",
       "  ('santa', 25),\n",
       "  ('time', 21),\n",
       "  ('claus', 20)],\n",
       " 'contemporary r&b': [('love', 81),\n",
       "  ('know', 76),\n",
       "  ('like', 61),\n",
       "  ('baby', 50),\n",
       "  ('ca', 50)],\n",
       " 'dance-pop': [('love', 109),\n",
       "  ('baby', 96),\n",
       "  ('like', 76),\n",
       "  ('know', 71),\n",
       "  ('want', 70)],\n",
       " 'easy listening': [('christmas', 21),\n",
       "  ('want', 16),\n",
       "  ('time', 15),\n",
       "  ('holiday', 15),\n",
       "  ('happy', 14)],\n",
       " 'english': [('work', 82),\n",
       "  ('like', 33),\n",
       "  ('dirt', 24),\n",
       "  ('learn', 24),\n",
       "  ('love', 22)],\n",
       " 'hip hop': [('like', 160),\n",
       "  ('got', 100),\n",
       "  ('bitch', 96),\n",
       "  ('work', 92),\n",
       "  ('get', 89)],\n",
       " 'pop soul': [('bye', 33),\n",
       "  ('baby', 23),\n",
       "  ('wonderful', 19),\n",
       "  ('wan', 18),\n",
       "  ('giddy', 18)],\n",
       " 'quiet storm': [('want', 16),\n",
       "  ('christmas', 16),\n",
       "  ('baby', 12),\n",
       "  ('wo', 7),\n",
       "  ('make', 5)],\n",
       " 'queer': [('know', 32),\n",
       "  ('someone', 22),\n",
       "  ('love', 22),\n",
       "  ('stop', 21),\n",
       "  ('say', 18)],\n",
       " '2020s': [('know', 62),\n",
       "  ('love', 59),\n",
       "  ('like', 43),\n",
       "  ('baby', 37),\n",
       "  ('wan', 36)],\n",
       " 'americana': [('wan', 12),\n",
       "  ('next', 11),\n",
       "  ('like', 9),\n",
       "  ('time', 9),\n",
       "  ('world', 7)],\n",
       " 'dance': [('people', 73),\n",
       "  ('think', 70),\n",
       "  ('always', 56),\n",
       "  ('one', 45),\n",
       "  ('market', 44)],\n",
       " 'electro house': [('love', 31),\n",
       "  ('hate', 24),\n",
       "  ('wan', 18),\n",
       "  ('like', 17),\n",
       "  ('something', 15)],\n",
       " 'electronic': [('know', 42),\n",
       "  ('like', 40),\n",
       "  ('love', 34),\n",
       "  ('bitch', 27),\n",
       "  ('wan', 23)],\n",
       " 'electropop': [('like', 82),\n",
       "  ('know', 76),\n",
       "  ('love', 68),\n",
       "  ('baby', 43),\n",
       "  ('wan', 39)],\n",
       " 'film soundtrack': [('christmas', 29),\n",
       "  ('merry', 27),\n",
       "  ('wan', 16),\n",
       "  ('blue', 12),\n",
       "  ('next', 11)],\n",
       " 'jazz': [('christmas', 35),\n",
       "  ('merry', 30),\n",
       "  ('wan', 16),\n",
       "  ('holiday', 16),\n",
       "  ('happy', 13)],\n",
       " 'late 2000s': [('wan', 17),\n",
       "  ('love', 11),\n",
       "  ('next', 11),\n",
       "  ('night', 9),\n",
       "  ('summer', 9)],\n",
       " 'pop rock': [('christmas', 81),\n",
       "  ('know', 64),\n",
       "  ('like', 63),\n",
       "  ('want', 44),\n",
       "  ('ca', 38)],\n",
       " 'synth-pop': [('know', 35),\n",
       "  ('wan', 34),\n",
       "  ('love', 27),\n",
       "  ('baby', 26),\n",
       "  ('like', 24)],\n",
       " 'synthpop': [('wonderful', 18),\n",
       "  ('christmastime', 18),\n",
       "  ('simply', 17),\n",
       "  ('wan', 12),\n",
       "  ('ding', 12)],\n",
       " '2008 universal fire victim': [('christmas', 81),\n",
       "  ('merry', 43),\n",
       "  ('like', 41),\n",
       "  ('back', 29),\n",
       "  ('jingle', 28)],\n",
       " 'american': [('christmas', 46),\n",
       "  ('know', 37),\n",
       "  ('merry', 31),\n",
       "  ('one', 29),\n",
       "  ('got', 26)],\n",
       " 'classic pop and rock': [('wonderful', 18),\n",
       "  ('christmastime', 18),\n",
       "  ('simply', 17),\n",
       "  ('christmas', 14),\n",
       "  ('ding', 12)],\n",
       " 'country': [('like', 39),\n",
       "  ('love', 36),\n",
       "  ('jingle', 29),\n",
       "  ('know', 26),\n",
       "  ('baby', 25)],\n",
       " 'rock and roll': [('christmas', 40),\n",
       "  ('wonderful', 18),\n",
       "  ('christmastime', 18),\n",
       "  ('simply', 17),\n",
       "  ('merry', 16)],\n",
       " 'rockabilly': [('jingle', 28),\n",
       "  ('bell', 19),\n",
       "  ('christmas', 12),\n",
       "  ('blue', 12),\n",
       "  ('time', 10)],\n",
       " 'alt-pop': [('know', 22),\n",
       "  ('bitch', 15),\n",
       "  ('love', 10),\n",
       "  ('guessed', 10),\n",
       "  ('said', 9)],\n",
       " 'alternative pop': [('know', 62),\n",
       "  ('like', 50),\n",
       "  ('love', 42),\n",
       "  ('baby', 38),\n",
       "  ('say', 31)],\n",
       " 'alternative r&b': [('know', 55),\n",
       "  ('love', 41),\n",
       "  ('like', 33),\n",
       "  ('see', 32),\n",
       "  ('bitch', 30)],\n",
       " 'art pop': [('love', 36),\n",
       "  ('know', 34),\n",
       "  ('like', 25),\n",
       "  ('hate', 24),\n",
       "  ('bitch', 24)],\n",
       " 'bedroom pop': [('know', 31),\n",
       "  ('bitch', 15),\n",
       "  ('love', 14),\n",
       "  ('think', 13),\n",
       "  ('back', 12)],\n",
       " 'dark pop': [('know', 22),\n",
       "  ('bitch', 15),\n",
       "  ('love', 10),\n",
       "  ('guessed', 10),\n",
       "  ('said', 9)],\n",
       " 'indie pop': [('love', 48),\n",
       "  ('know', 37),\n",
       "  ('another', 28),\n",
       "  ('wan', 25),\n",
       "  ('gon', 25)],\n",
       " 'pity pop': [('know', 22),\n",
       "  ('bitch', 15),\n",
       "  ('love', 10),\n",
       "  ('guessed', 10),\n",
       "  ('said', 9)],\n",
       " 'singer-songwriter': [('love', 109),\n",
       "  ('come', 53),\n",
       "  ('know', 51),\n",
       "  ('like', 37),\n",
       "  ('christmas', 28)],\n",
       " 'alternative hip hop': [('like', 80),\n",
       "  ('got', 70),\n",
       "  ('niggas', 58),\n",
       "  ('nigga', 58),\n",
       "  ('bitch', 56)],\n",
       " 'conscious hip hop': [('like', 102),\n",
       "  ('got', 75),\n",
       "  ('niggas', 58),\n",
       "  ('bitch', 58),\n",
       "  ('get', 58)],\n",
       " 'hardcore hip hop': [('like', 124),\n",
       "  ('bitch', 86),\n",
       "  ('got', 83),\n",
       "  ('nigga', 69),\n",
       "  ('niggas', 65)],\n",
       " 'jazz rap': [('like', 80),\n",
       "  ('got', 70),\n",
       "  ('niggas', 58),\n",
       "  ('nigga', 58),\n",
       "  ('bitch', 56)],\n",
       " 'pop rap': [('like', 140),\n",
       "  ('work', 90),\n",
       "  ('bitch', 86),\n",
       "  ('got', 80),\n",
       "  ('get', 70)],\n",
       " 'rap': [('like', 125),\n",
       "  ('work', 87),\n",
       "  ('got', 81),\n",
       "  ('get', 79),\n",
       "  ('niggas', 64)],\n",
       " 'trap': [('like', 132),\n",
       "  ('bitch', 95),\n",
       "  ('work', 90),\n",
       "  ('got', 85),\n",
       "  ('get', 76)],\n",
       " 'west coast hip hop': [('like', 102),\n",
       "  ('bitch', 84),\n",
       "  ('got', 78),\n",
       "  ('nigga', 69),\n",
       "  ('niggas', 65)],\n",
       " 'hip hop soul': [('got', 20),\n",
       "  ('know', 18),\n",
       "  ('one', 18),\n",
       "  ('love', 17),\n",
       "  ('survive', 17)],\n",
       " 'neo soul': [('got', 22),\n",
       "  ('see', 19),\n",
       "  ('know', 19),\n",
       "  ('one', 18),\n",
       "  ('love', 18)],\n",
       " 'folk pop': [('love', 71),\n",
       "  ('come', 43),\n",
       "  ('like', 27),\n",
       "  ('hate', 25),\n",
       "  ('baby', 23)],\n",
       " 'trap soul': [('popular', 33),\n",
       "  ('love', 29),\n",
       "  ('know', 29),\n",
       "  ('ca', 24),\n",
       "  ('would', 20)],\n",
       " 'big band': [('snow', 11),\n",
       "  ('let', 10),\n",
       "  ('really', 7),\n",
       "  ('say', 4),\n",
       "  ('outside', 3)],\n",
       " 'country pop': [('like', 28),\n",
       "  ('love', 23),\n",
       "  ('wan', 16),\n",
       "  ('baby', 15),\n",
       "  ('want', 14)],\n",
       " 'standards': [('simply', 18),\n",
       "  ('wonderful', 18),\n",
       "  ('christmastime', 18),\n",
       "  ('snow', 13),\n",
       "  ('ding', 12)],\n",
       " 'traditional pop': [('snow', 13),\n",
       "  ('christmas', 11),\n",
       "  ('let', 10),\n",
       "  ('hawaii', 10),\n",
       "  ('really', 7)],\n",
       " 'vocal jazz': [('snow', 13),\n",
       "  ('christmas', 11),\n",
       "  ('let', 10),\n",
       "  ('hawaii', 10),\n",
       "  ('really', 7)],\n",
       " 'easy listening soundtracks and musicals': [('merry', 26),\n",
       "  ('christmas', 17),\n",
       "  ('holiday', 15),\n",
       "  ('happy', 13),\n",
       "  ('good', 12)],\n",
       " 'australian': [('snowman', 8),\n",
       "  ('baby', 8),\n",
       "  ('let', 6),\n",
       "  ('cry', 5),\n",
       "  ('ca', 4)],\n",
       " 'alternative rock': [('like', 37),\n",
       "  ('know', 35),\n",
       "  ('got', 27),\n",
       "  ('ca', 27),\n",
       "  ('want', 27)],\n",
       " 'rhythm & blues': [('run', 12),\n",
       "  ('like', 11),\n",
       "  ('baby', 11),\n",
       "  ('know', 10),\n",
       "  ('ca', 9)],\n",
       " 'baroque pop': [('giddy', 18),\n",
       "  ('yap', 18),\n",
       "  ('saint', 11),\n",
       "  ('nick', 11),\n",
       "  ('christmas', 9)],\n",
       " 'brill building': [('giddy', 18),\n",
       "  ('yap', 18),\n",
       "  ('sleigh', 8),\n",
       "  ('together', 8),\n",
       "  ('come', 6)],\n",
       " 'girl group': [('people', 73),\n",
       "  ('think', 70),\n",
       "  ('always', 56),\n",
       "  ('one', 45),\n",
       "  ('market', 44)],\n",
       " 'ballad': [('want', 4),\n",
       "  ('man', 4),\n",
       "  ('know', 3),\n",
       "  ('someone', 3),\n",
       "  ('smallest', 3)],\n",
       " 'edm': [('like', 16),\n",
       "  ('want', 16),\n",
       "  ('something', 15),\n",
       "  ('wan', 6),\n",
       "  ('somebody', 6)],\n",
       " 'hypnagogic pop': [('would', 21),\n",
       "  ('timeless', 18),\n",
       "  ('baby', 18),\n",
       "  ('know', 14),\n",
       "  ('die', 14)],\n",
       " 'cloud rap': [('work', 79),\n",
       "  ('dirt', 24),\n",
       "  ('learn', 24),\n",
       "  ('timeless', 18),\n",
       "  ('heart', 17)],\n",
       " 'plugg': [('work', 79),\n",
       "  ('dirt', 24),\n",
       "  ('learn', 24),\n",
       "  ('timeless', 18),\n",
       "  ('hurt', 13)],\n",
       " 'rage': [('work', 79),\n",
       "  ('dirt', 24),\n",
       "  ('learn', 24),\n",
       "  ('timeless', 18),\n",
       "  ('hurt', 13)],\n",
       " 'southern hip hop': [('work', 79),\n",
       "  ('sticky', 59),\n",
       "  ('gettin', 39),\n",
       "  ('bitch', 37),\n",
       "  ('dirt', 24)],\n",
       " 'regional mexicano': [('quiero', 21),\n",
       "  ('pa', 21),\n",
       "  ('si', 18),\n",
       "  ('va', 15),\n",
       "  ('siempre', 13)],\n",
       " 'indie folk': [('love', 36),\n",
       "  ('wan', 23),\n",
       "  ('another', 20),\n",
       "  ('tears', 13),\n",
       "  ('know', 12)],\n",
       " 'gay pop': [('stop', 21),\n",
       "  ('hot', 17),\n",
       "  ('gon', 16),\n",
       "  ('pink', 15),\n",
       "  ('pony', 15)],\n",
       " 'french pop': [('love', 24),\n",
       "  ('hate', 24),\n",
       "  ('worst', 6),\n",
       "  ('best', 5),\n",
       "  ('enemy', 3)],\n",
       " 'hip house': [('love', 24),\n",
       "  ('hate', 24),\n",
       "  ('worst', 6),\n",
       "  ('best', 5),\n",
       "  ('enemy', 3)],\n",
       " 'ambient pop': [('love', 24),\n",
       "  ('hate', 24),\n",
       "  ('worst', 6),\n",
       "  ('best', 5),\n",
       "  ('enemy', 3)],\n",
       " 'chamber folk': [('love', 24),\n",
       "  ('hate', 24),\n",
       "  ('worst', 6),\n",
       "  ('best', 5),\n",
       "  ('enemy', 3)],\n",
       " 'chamber pop': [('love', 24),\n",
       "  ('hate', 24),\n",
       "  ('sweet', 11),\n",
       "  ('worst', 6),\n",
       "  ('bed', 6)],\n",
       " 'chanson française': [('love', 24),\n",
       "  ('hate', 24),\n",
       "  ('worst', 6),\n",
       "  ('best', 5),\n",
       "  ('enemy', 3)],\n",
       " 'latin': [('si', 58), ('pa', 53), ('club', 41), ('ey', 29), ('tumbando', 28)],\n",
       " 'latin urban': [('club', 41),\n",
       "  ('tumbando', 28),\n",
       "  ('salut', 28),\n",
       "  ('vallée', 28),\n",
       "  ('dalle', 28)],\n",
       " 'reggaeton': [('si', 43),\n",
       "  ('pa', 41),\n",
       "  ('club', 41),\n",
       "  ('tumbando', 28),\n",
       "  ('salut', 28)],\n",
       " 'trap latino': [('club', 41),\n",
       "  ('tumbando', 28),\n",
       "  ('salut', 28),\n",
       "  ('vallée', 28),\n",
       "  ('dalle', 28)],\n",
       " 'latin trap': [('club', 41),\n",
       "  ('tumbando', 28),\n",
       "  ('ey', 22),\n",
       "  ('trap', 21),\n",
       "  ('si', 12)],\n",
       " 'spanish': [('club', 41),\n",
       "  ('tumbando', 28),\n",
       "  ('ey', 22),\n",
       "  ('trap', 21),\n",
       "  ('si', 12)],\n",
       " 'bachata': [('pa', 8), ('digo', 8), ('si', 8), ('dices', 7), ('pasando', 6)],\n",
       " 'música tropical': [('pa', 8),\n",
       "  ('digo', 8),\n",
       "  ('si', 8),\n",
       "  ('dices', 7),\n",
       "  ('pasando', 6)],\n",
       " 'blues': [('christmas', 16),\n",
       "  ('driving', 15),\n",
       "  ('blue', 12),\n",
       "  ('home', 12),\n",
       "  ('sweet', 11)],\n",
       " 'blues rock': [('driving', 15),\n",
       "  ('home', 12),\n",
       "  ('sweet', 11),\n",
       "  ('christmas', 10),\n",
       "  ('take', 8)],\n",
       " 'folk rock': [('christmas', 16),\n",
       "  ('sweet', 11),\n",
       "  ('bed', 7),\n",
       "  ('got', 5),\n",
       "  ('babe', 5)],\n",
       " 'indie rock': [('take', 20),\n",
       "  ('every', 20),\n",
       "  ('mine', 15),\n",
       "  ('watching', 14),\n",
       "  ('sweet', 11)],\n",
       " 'folk': [('come', 38),\n",
       "  ('love', 31),\n",
       "  ('wonderful', 18),\n",
       "  ('christmastime', 18),\n",
       "  ('baby', 18)],\n",
       " 'guitarist': [('come', 37),\n",
       "  ('love', 30),\n",
       "  ('baby', 17),\n",
       "  ('body', 17),\n",
       "  ('well', 15)],\n",
       " 'singer': [('come', 37),\n",
       "  ('love', 30),\n",
       "  ('baby', 17),\n",
       "  ('body', 17),\n",
       "  ('well', 15)],\n",
       " 'uk': [('come', 42),\n",
       "  ('love', 36),\n",
       "  ('like', 30),\n",
       "  ('bitch', 24),\n",
       "  ('christmas', 21)],\n",
       " 'british': [('christmas', 54),\n",
       "  ('merry', 25),\n",
       "  ('like', 25),\n",
       "  ('time', 19),\n",
       "  ('let', 19)],\n",
       " 'piano rock': [('christmas', 28),\n",
       "  ('like', 23),\n",
       "  ('merry', 16),\n",
       "  ('something', 15),\n",
       "  ('get', 13)],\n",
       " 'singer/songwriter': [('christmas', 28),\n",
       "  ('wonderful', 18),\n",
       "  ('christmastime', 18),\n",
       "  ('simply', 17),\n",
       "  ('merry', 16)],\n",
       " 'soft rock': [('christmas', 47),\n",
       "  ('wonderful', 18),\n",
       "  ('christmastime', 18),\n",
       "  ('simply', 17),\n",
       "  ('home', 17)],\n",
       " '70s': [('wonderful', 18),\n",
       "  ('christmastime', 18),\n",
       "  ('simply', 17),\n",
       "  ('ding', 12),\n",
       "  ('dong', 11)],\n",
       " '80s': [('wonderful', 18),\n",
       "  ('christmastime', 18),\n",
       "  ('simply', 17),\n",
       "  ('ding', 12),\n",
       "  ('dong', 11)],\n",
       " 'classical': [('merry', 24),\n",
       "  ('wonderful', 18),\n",
       "  ('christmastime', 18),\n",
       "  ('ding', 18),\n",
       "  ('simply', 17)],\n",
       " 'composer': [('merry', 24),\n",
       "  ('wonderful', 18),\n",
       "  ('christmastime', 18),\n",
       "  ('ding', 18),\n",
       "  ('simply', 17)],\n",
       " 'grammy winner': [('merry', 24),\n",
       "  ('wonderful', 18),\n",
       "  ('christmastime', 18),\n",
       "  ('ding', 18),\n",
       "  ('simply', 17)],\n",
       " 'male vocalists': [('wonderful', 18),\n",
       "  ('christmastime', 18),\n",
       "  ('simply', 17),\n",
       "  ('ding', 12),\n",
       "  ('dong', 11)],\n",
       " 'pop/rock': [('wonderful', 18),\n",
       "  ('christmastime', 18),\n",
       "  ('simply', 17),\n",
       "  ('ding', 12),\n",
       "  ('dong', 11)],\n",
       " 'rock & roll': [('wonderful', 18),\n",
       "  ('christmastime', 18),\n",
       "  ('simply', 17),\n",
       "  ('ding', 12),\n",
       "  ('blue', 12)],\n",
       " 'the beatles': [('wonderful', 18),\n",
       "  ('christmastime', 18),\n",
       "  ('simply', 17),\n",
       "  ('ding', 12),\n",
       "  ('dong', 11)],\n",
       " 'united kingdom': [('wonderful', 18),\n",
       "  ('christmastime', 18),\n",
       "  ('simply', 17),\n",
       "  ('ding', 12),\n",
       "  ('dong', 11)],\n",
       " 'western classical music': [('wonderful', 18),\n",
       "  ('christmastime', 18),\n",
       "  ('simply', 17),\n",
       "  ('ding', 12),\n",
       "  ('dong', 11)],\n",
       " 'teen pop': [('bye', 33),\n",
       "  ('wan', 18),\n",
       "  ('baby', 16),\n",
       "  ('mistletoe', 13),\n",
       "  ('shawty', 10)],\n",
       " '3rd gen k-pop': [('people', 73),\n",
       "  ('think', 70),\n",
       "  ('always', 56),\n",
       "  ('one', 45),\n",
       "  ('market', 44)],\n",
       " 'electronica': [('people', 73),\n",
       "  ('think', 70),\n",
       "  ('always', 56),\n",
       "  ('one', 45),\n",
       "  ('market', 44)],\n",
       " 'k-pop': [('people', 73),\n",
       "  ('think', 70),\n",
       "  ('always', 57),\n",
       "  ('one', 47),\n",
       "  ('market', 44)],\n",
       " 'korean': [('people', 73),\n",
       "  ('think', 70),\n",
       "  ('always', 56),\n",
       "  ('one', 45),\n",
       "  ('market', 44)],\n",
       " '4th gen k-pop': [('give', 20),\n",
       "  ('shorty', 11),\n",
       "  ('need', 8),\n",
       "  ('words', 5),\n",
       "  ('moment', 4)],\n",
       " 'likedis auto': [('please', 15),\n",
       "  ('baby', 8),\n",
       "  ('come', 8),\n",
       "  ('home', 8),\n",
       "  ('christmas', 3)],\n",
       " 'anthology': [('year', 2),\n",
       "  ('deck', 1),\n",
       "  ('halls', 1),\n",
       "  ('boughs', 1),\n",
       "  ('holly', 1)],\n",
       " 'swing': [('year', 2),\n",
       "  ('deck', 1),\n",
       "  ('halls', 1),\n",
       "  ('boughs', 1),\n",
       "  ('holly', 1)],\n",
       " 'blue-eyed soul': [('bye', 33),\n",
       "  ('wan', 16),\n",
       "  ('blue', 12),\n",
       "  ('baby', 9),\n",
       "  ('lie', 9)],\n",
       " 'gospel': [('blue', 12),\n",
       "  ('christmas', 6),\n",
       "  ('start', 2),\n",
       "  ('doin', 2),\n",
       "  ('right', 2)],\n",
       " 'rock n roll': [('blue', 12),\n",
       "  ('christmas', 6),\n",
       "  ('start', 2),\n",
       "  ('doin', 2),\n",
       "  ('right', 2)],\n",
       " 'rock-and-roll': [('blue', 12),\n",
       "  ('christmas', 6),\n",
       "  ('start', 2),\n",
       "  ('doin', 2),\n",
       "  ('right', 2)],\n",
       " 'criminal': [('sticky', 59),\n",
       "  ('gettin', 39),\n",
       "  ('bitch', 28),\n",
       "  ('better', 14),\n",
       "  ('mop', 14)],\n",
       " 'gangsta rap': [('sticky', 59),\n",
       "  ('gettin', 39),\n",
       "  ('bitch', 28),\n",
       "  ('better', 14),\n",
       "  ('mop', 14)],\n",
       " 'rap rock': [('sticky', 59),\n",
       "  ('gettin', 39),\n",
       "  ('bitch', 28),\n",
       "  ('know', 15),\n",
       "  ('better', 14)],\n",
       " 'corrido': [('quiero', 16),\n",
       "  ('si', 15),\n",
       "  ('va', 12),\n",
       "  ('pa', 12),\n",
       "  ('siempre', 10)],\n",
       " 'corrido tumbado': [('pa', 6),\n",
       "  ('dos', 4),\n",
       "  ('mamá', 4),\n",
       "  ('nomás', 3),\n",
       "  ('quiero', 3)],\n",
       " 'nuno': [('know', 19),\n",
       "  ('love', 16),\n",
       "  ('pink', 12),\n",
       "  ('skies', 12),\n",
       "  ('back', 11)],\n",
       " 'alt rock': [('know', 14),\n",
       "  ('even', 12),\n",
       "  ('heavy', 12),\n",
       "  ('wanted', 9),\n",
       "  ('part', 9)],\n",
       " 'alternative metal': [('know', 14),\n",
       "  ('even', 12),\n",
       "  ('heavy', 12),\n",
       "  ('wanted', 9),\n",
       "  ('part', 9)],\n",
       " 'art rock': [('know', 14),\n",
       "  ('even', 12),\n",
       "  ('heavy', 12),\n",
       "  ('wanted', 9),\n",
       "  ('part', 9)],\n",
       " 'metal': [('know', 14),\n",
       "  ('even', 12),\n",
       "  ('heavy', 12),\n",
       "  ('wanted', 9),\n",
       "  ('part', 9)],\n",
       " 'nu metal': [('know', 14),\n",
       "  ('even', 12),\n",
       "  ('heavy', 12),\n",
       "  ('wanted', 9),\n",
       "  ('part', 9)],\n",
       " 'rap metal': [('know', 14),\n",
       "  ('even', 12),\n",
       "  ('heavy', 12),\n",
       "  ('wanted', 9),\n",
       "  ('part', 9)],\n",
       " 'rapcore': [('know', 14),\n",
       "  ('even', 12),\n",
       "  ('heavy', 12),\n",
       "  ('wanted', 9),\n",
       "  ('part', 9)],\n",
       " 'usa': [('know', 14),\n",
       "  ('even', 12),\n",
       "  ('heavy', 12),\n",
       "  ('wanted', 9),\n",
       "  ('part', 9)],\n",
       " 'welsh': [('christmas', 11),\n",
       "  ('merry', 9),\n",
       "  ('everyone', 9),\n",
       "  ('playing', 6),\n",
       "  ('love', 6)],\n",
       " 'classic rock': [('christmas', 18),\n",
       "  ('saint', 11),\n",
       "  ('nick', 11),\n",
       "  ('little', 8),\n",
       "  ('run', 8)],\n",
       " 'progressive pop': [('saint', 11),\n",
       "  ('nick', 11),\n",
       "  ('christmas', 9),\n",
       "  ('little', 8),\n",
       "  ('run', 8)],\n",
       " 'psychedelic pop': [('saint', 11),\n",
       "  ('nick', 11),\n",
       "  ('christmas', 9),\n",
       "  ('little', 8),\n",
       "  ('man', 8)],\n",
       " 'sunshine pop': [('saint', 11),\n",
       "  ('nick', 11),\n",
       "  ('christmas', 9),\n",
       "  ('little', 8),\n",
       "  ('run', 8)],\n",
       " 'surf rock': [('saint', 11),\n",
       "  ('nick', 11),\n",
       "  ('christmas', 9),\n",
       "  ('little', 8),\n",
       "  ('run', 8)],\n",
       " 'vocal surf': [('saint', 11),\n",
       "  ('nick', 11),\n",
       "  ('christmas', 9),\n",
       "  ('little', 8),\n",
       "  ('run', 8)],\n",
       " 'neo-psychedelia': [('man', 7),\n",
       "  ('city', 6),\n",
       "  ('take', 4),\n",
       "  ('back', 3),\n",
       "  ('chicago', 3)],\n",
       " '_fix whosampled dupe url': [('sticky', 59),\n",
       "  ('gettin', 39),\n",
       "  ('bitch', 28),\n",
       "  ('like', 22),\n",
       "  ('see', 15)],\n",
       " 'horrorcore': [('sticky', 59),\n",
       "  ('like', 44),\n",
       "  ('gettin', 39),\n",
       "  ('bitch', 30),\n",
       "  ('back', 29)],\n",
       " 'artist of the decade': [('summer', 9),\n",
       "  ('touched', 9),\n",
       "  ('love', 8),\n",
       "  ('fortnight', 8),\n",
       "  ('cruel', 6)],\n",
       " 'contemporary country': [('like', 18),\n",
       "  ('want', 11),\n",
       "  ('love', 11),\n",
       "  ('summer', 10),\n",
       "  ('baby', 9)],\n",
       " 'cultural icon': [('summer', 9),\n",
       "  ('touched', 9),\n",
       "  ('love', 8),\n",
       "  ('fortnight', 8),\n",
       "  ('cruel', 6)],\n",
       " 'female vocals': [('summer', 9),\n",
       "  ('touched', 9),\n",
       "  ('love', 8),\n",
       "  ('fortnight', 8),\n",
       "  ('cruel', 6)],\n",
       " 'icon': [('summer', 9),\n",
       "  ('touched', 9),\n",
       "  ('love', 8),\n",
       "  ('fortnight', 8),\n",
       "  ('cruel', 6)],\n",
       " 're-recording': [('summer', 9),\n",
       "  ('touched', 9),\n",
       "  ('love', 8),\n",
       "  ('fortnight', 8),\n",
       "  ('cruel', 6)],\n",
       " 'a cappella': [('hallelujah', 39),\n",
       "  ('really', 3),\n",
       "  ('know', 3),\n",
       "  ('broken', 3),\n",
       "  ('heard', 2)],\n",
       " 'close harmony': [('hallelujah', 39),\n",
       "  ('really', 3),\n",
       "  ('know', 3),\n",
       "  ('broken', 3),\n",
       "  ('heard', 2)],\n",
       " 'vocal': [('hallelujah', 39),\n",
       "  ('really', 3),\n",
       "  ('know', 3),\n",
       "  ('broken', 3),\n",
       "  ('heard', 2)],\n",
       " 'country yodeling': [('santa', 19),\n",
       "  ('claus', 17),\n",
       "  ('comes', 13),\n",
       "  ('reindeer', 7),\n",
       "  ('tonight', 6)],\n",
       " 'cowboy': [('santa', 19),\n",
       "  ('claus', 17),\n",
       "  ('comes', 13),\n",
       "  ('reindeer', 7),\n",
       "  ('tonight', 6)],\n",
       " 'hillbilly': [('santa', 19),\n",
       "  ('claus', 17),\n",
       "  ('comes', 13),\n",
       "  ('reindeer', 7),\n",
       "  ('tonight', 6)],\n",
       " 'holiday music': [('santa', 19),\n",
       "  ('claus', 17),\n",
       "  ('comes', 13),\n",
       "  ('reindeer', 7),\n",
       "  ('tonight', 6)],\n",
       " 'traditional country': [('santa', 19),\n",
       "  ('claus', 17),\n",
       "  ('comes', 13),\n",
       "  ('reindeer', 7),\n",
       "  ('tonight', 6)],\n",
       " 'western': [('santa', 19),\n",
       "  ('claus', 17),\n",
       "  ('comes', 13),\n",
       "  ('reindeer', 7),\n",
       "  ('tonight', 6)],\n",
       " 'emo rap': [('gon', 15),\n",
       "  ('like', 15),\n",
       "  ('heart', 14),\n",
       "  ('one', 14),\n",
       "  ('love', 13)],\n",
       " 'look again': [('one', 13),\n",
       "  ('heart', 13),\n",
       "  ('made', 10),\n",
       "  ('change', 8),\n",
       "  ('love', 8)],\n",
       " 'academy award winner': [('merry', 24),\n",
       "  ('christmas', 12),\n",
       "  ('good', 9),\n",
       "  ('cheer', 9),\n",
       "  ('joyful', 7)],\n",
       " 'american composer': [('merry', 24),\n",
       "  ('christmas', 12),\n",
       "  ('good', 9),\n",
       "  ('cheer', 9),\n",
       "  ('joyful', 7)],\n",
       " 'conductor': [('merry', 24),\n",
       "  ('christmas', 12),\n",
       "  ('good', 9),\n",
       "  ('cheer', 9),\n",
       "  ('joyful', 7)],\n",
       " 'contemporary classical': [('merry', 24),\n",
       "  ('christmas', 12),\n",
       "  ('good', 9),\n",
       "  ('cheer', 9),\n",
       "  ('joyful', 7)],\n",
       " 'film': [('merry', 24),\n",
       "  ('christmas', 12),\n",
       "  ('good', 9),\n",
       "  ('cheer', 9),\n",
       "  ('joyful', 7)],\n",
       " 'film composer': [('merry', 24),\n",
       "  ('christmas', 12),\n",
       "  ('good', 9),\n",
       "  ('cheer', 9),\n",
       "  ('joyful', 7)],\n",
       " 'film score': [('merry', 24),\n",
       "  ('christmas', 12),\n",
       "  ('good', 9),\n",
       "  ('cheer', 9),\n",
       "  ('look', 8)],\n",
       " 'game': [('merry', 24),\n",
       "  ('christmas', 12),\n",
       "  ('good', 9),\n",
       "  ('cheer', 9),\n",
       "  ('joyful', 7)],\n",
       " 'modern classical': [('merry', 24),\n",
       "  ('christmas', 12),\n",
       "  ('good', 9),\n",
       "  ('cheer', 9),\n",
       "  ('joyful', 7)],\n",
       " 'orchestral': [('merry', 24),\n",
       "  ('christmas', 12),\n",
       "  ('good', 9),\n",
       "  ('cheer', 9),\n",
       "  ('joyful', 7)],\n",
       " 'pianist': [('merry', 24),\n",
       "  ('christmas', 12),\n",
       "  ('good', 9),\n",
       "  ('cheer', 9),\n",
       "  ('joyful', 7)],\n",
       " 'saga': [('merry', 24),\n",
       "  ('christmas', 12),\n",
       "  ('good', 9),\n",
       "  ('cheer', 9),\n",
       "  ('joyful', 7)],\n",
       " 'score': [('merry', 24),\n",
       "  ('christmas', 12),\n",
       "  ('good', 9),\n",
       "  ('cheer', 9),\n",
       "  ('joyful', 7)],\n",
       " 'server name': [('merry', 24),\n",
       "  ('christmas', 12),\n",
       "  ('showed', 10),\n",
       "  ('good', 9),\n",
       "  ('cheer', 9)],\n",
       " 'soundtrack': [('merry', 24),\n",
       "  ('christmas', 12),\n",
       "  ('good', 9),\n",
       "  ('cheer', 9),\n",
       "  ('joyful', 7)],\n",
       " 'soundtracks': [('merry', 24),\n",
       "  ('christmas', 12),\n",
       "  ('good', 9),\n",
       "  ('cheer', 9),\n",
       "  ('joyful', 7)],\n",
       " 'star wars': [('merry', 24),\n",
       "  ('christmas', 12),\n",
       "  ('good', 9),\n",
       "  ('cheer', 9),\n",
       "  ('joyful', 7)],\n",
       " 'suboptimal credits': [('merry', 24),\n",
       "  ('christmas', 12),\n",
       "  ('good', 9),\n",
       "  ('cheer', 9),\n",
       "  ('joyful', 7)],\n",
       " 'vgm': [('merry', 24),\n",
       "  ('christmas', 12),\n",
       "  ('good', 9),\n",
       "  ('cheer', 9),\n",
       "  ('joyful', 7)],\n",
       " 'video game': [('merry', 24),\n",
       "  ('christmas', 12),\n",
       "  ('good', 9),\n",
       "  ('cheer', 9),\n",
       "  ('joyful', 7)],\n",
       " 'western classical': [('merry', 24),\n",
       "  ('christmas', 12),\n",
       "  ('good', 9),\n",
       "  ('cheer', 9),\n",
       "  ('joyful', 7)],\n",
       " 'experimental hip hop': [('work', 79),\n",
       "  ('dirt', 24),\n",
       "  ('learn', 24),\n",
       "  ('bitch', 15),\n",
       "  ('hurt', 12)],\n",
       " 'country rock': [('christmas', 9),\n",
       "  ('home', 3),\n",
       "  ('year', 3),\n",
       "  ('happy', 3),\n",
       "  ('sad', 2)],\n",
       " 'latin pop': [('see', 13), ('long', 6), ('tell', 6), ('way', 5), ('come', 4)],\n",
       " 'bro-country': [('like', 10),\n",
       "  ('want', 8),\n",
       "  ('thank', 8),\n",
       "  ('make', 8),\n",
       "  ('baby', 7)],\n",
       " 'new wave': [('every', 20),\n",
       "  ('watching', 14),\n",
       "  ('know', 8),\n",
       "  ('mmm', 7),\n",
       "  ('take', 5)],\n",
       " 'post-punk': [('every', 20),\n",
       "  ('watching', 14),\n",
       "  ('mmm', 7),\n",
       "  ('take', 5),\n",
       "  ('move', 4)],\n",
       " 'punk': [('every', 20),\n",
       "  ('watching', 14),\n",
       "  ('mmm', 7),\n",
       "  ('take', 5),\n",
       "  ('move', 4)],\n",
       " 'reggae rock': [('every', 20),\n",
       "  ('watching', 14),\n",
       "  ('mmm', 7),\n",
       "  ('take', 5),\n",
       "  ('move', 4)],\n",
       " 'british blues': [('driving', 15),\n",
       "  ('home', 12),\n",
       "  ('christmas', 10),\n",
       "  ('get', 5),\n",
       "  ('ca', 3)],\n",
       " 'electric blues': [('driving', 15),\n",
       "  ('home', 12),\n",
       "  ('christmas', 10),\n",
       "  ('get', 5),\n",
       "  ('ca', 3)],\n",
       " 'big music': [('like', 16),\n",
       "  ('something', 15),\n",
       "  ('want', 13),\n",
       "  ('wan', 11),\n",
       "  ('get', 10)],\n",
       " 'britpop': [('like', 18),\n",
       "  ('want', 17),\n",
       "  ('something', 15),\n",
       "  ('wan', 12),\n",
       "  ('get', 10)],\n",
       " 'dream pop': [('like', 16),\n",
       "  ('something', 15),\n",
       "  ('want', 13),\n",
       "  ('wan', 11),\n",
       "  ('get', 10)],\n",
       " 'post-britpop': [('like', 18),\n",
       "  ('want', 17),\n",
       "  ('something', 15),\n",
       "  ('wan', 12),\n",
       "  ('get', 10)],\n",
       " 'celtic folk music': [('christmas', 7),\n",
       "  ('old', 4),\n",
       "  ('got', 4),\n",
       "  ('singing', 4),\n",
       "  ('dreams', 3)],\n",
       " 'celtic punk': [('christmas', 7),\n",
       "  ('old', 4),\n",
       "  ('got', 4),\n",
       "  ('singing', 4),\n",
       "  ('dreams', 3)],\n",
       " 'celtic rock': [('christmas', 7),\n",
       "  ('old', 4),\n",
       "  ('got', 4),\n",
       "  ('singing', 4),\n",
       "  ('dreams', 3)],\n",
       " 'folk punk': [('christmas', 7),\n",
       "  ('old', 4),\n",
       "  ('got', 4),\n",
       "  ('singing', 4),\n",
       "  ('dreams', 3)],\n",
       " 'irish folk': [('christmas', 7),\n",
       "  ('old', 4),\n",
       "  ('got', 4),\n",
       "  ('singing', 4),\n",
       "  ('dreams', 3)],\n",
       " 'boom bap': [('back', 29),\n",
       "  ('like', 22),\n",
       "  ('guess', 16),\n",
       "  ('little', 11),\n",
       "  ('shit', 10)],\n",
       " 'detroit': [('back', 29),\n",
       "  ('like', 22),\n",
       "  ('guess', 16),\n",
       "  ('little', 11),\n",
       "  ('shit', 10)],\n",
       " 'detroit hip hop': [('back', 29),\n",
       "  ('like', 22),\n",
       "  ('guess', 16),\n",
       "  ('little', 11),\n",
       "  ('shit', 10)],\n",
       " 'hip-hop': [('back', 29),\n",
       "  ('like', 22),\n",
       "  ('guess', 16),\n",
       "  ('little', 11),\n",
       "  ('shit', 10)],\n",
       " 'midwest hip hop': [('back', 29),\n",
       "  ('like', 22),\n",
       "  ('guess', 16),\n",
       "  ('little', 11),\n",
       "  ('shit', 10)],\n",
       " 'rap god': [('back', 29),\n",
       "  ('like', 22),\n",
       "  ('guess', 16),\n",
       "  ('little', 11),\n",
       "  ('shit', 10)],\n",
       " 'disco': [('need', 11),\n",
       "  ('look', 8),\n",
       "  ('done', 8),\n",
       "  ('motherfuckin', 8),\n",
       "  ('starboy', 8)],\n",
       " 'electroclash': [('look', 8),\n",
       "  ('done', 8),\n",
       "  ('motherfuckin', 8),\n",
       "  ('starboy', 8),\n",
       "  ('need', 6)],\n",
       " 'european': [('look', 8),\n",
       "  ('done', 8),\n",
       "  ('motherfuckin', 8),\n",
       "  ('starboy', 8),\n",
       "  ('need', 6)],\n",
       " 'french': [('look', 8),\n",
       "  ('done', 8),\n",
       "  ('motherfuckin', 8),\n",
       "  ('starboy', 8),\n",
       "  ('need', 6)],\n",
       " 'french electro': [('look', 8),\n",
       "  ('done', 8),\n",
       "  ('motherfuckin', 8),\n",
       "  ('starboy', 8),\n",
       "  ('need', 6)],\n",
       " 'french house': [('look', 8),\n",
       "  ('done', 8),\n",
       "  ('motherfuckin', 8),\n",
       "  ('starboy', 8),\n",
       "  ('need', 6)],\n",
       " 'french touch': [('look', 8),\n",
       "  ('done', 8),\n",
       "  ('motherfuckin', 8),\n",
       "  ('starboy', 8),\n",
       "  ('need', 6)],\n",
       " 'house': [('look', 8),\n",
       "  ('done', 8),\n",
       "  ('motherfuckin', 8),\n",
       "  ('starboy', 8),\n",
       "  ('need', 6)],\n",
       " 'nu-disco': [('look', 8),\n",
       "  ('done', 8),\n",
       "  ('motherfuckin', 8),\n",
       "  ('starboy', 8),\n",
       "  ('need', 6)],\n",
       " 'vocoder': [('look', 8),\n",
       "  ('done', 8),\n",
       "  ('motherfuckin', 8),\n",
       "  ('starboy', 8),\n",
       "  ('need', 6)],\n",
       " 'alternative country': [('remember', 7),\n",
       "  ('mind', 6),\n",
       "  ('time', 6),\n",
       "  ('like', 5),\n",
       "  ('ease', 4)],\n",
       " 'alternative': [('special', 6),\n",
       "  ('run', 5),\n",
       "  ('belong', 4),\n",
       "  ('want', 4),\n",
       "  ('wish', 3)],\n",
       " 'electronic rock': [('special', 6),\n",
       "  ('run', 5),\n",
       "  ('belong', 4),\n",
       "  ('want', 4),\n",
       "  ('wish', 3)],\n",
       " 'experimental rock': [('special', 6),\n",
       "  ('run', 5),\n",
       "  ('belong', 4),\n",
       "  ('want', 4),\n",
       "  ('wish', 3)],\n",
       " 'post-grunge': [('special', 6),\n",
       "  ('run', 5),\n",
       "  ('belong', 4),\n",
       "  ('want', 4),\n",
       "  ('wish', 3)],\n",
       " 'bubblegum bass': [('bitch', 15),\n",
       "  ('guessed', 10),\n",
       "  ('us', 7),\n",
       "  ('nigga', 6),\n",
       "  ('right', 5)],\n",
       " 'deconstructed club': [('bitch', 15),\n",
       "  ('guessed', 10),\n",
       "  ('us', 7),\n",
       "  ('nigga', 6),\n",
       "  ('right', 5)],\n",
       " 'europop': [('bitch', 15),\n",
       "  ('guessed', 10),\n",
       "  ('us', 7),\n",
       "  ('nigga', 6),\n",
       "  ('right', 5)],\n",
       " 'hyperpop': [('bitch', 15),\n",
       "  ('guessed', 10),\n",
       "  ('us', 7),\n",
       "  ('nigga', 6),\n",
       "  ('right', 5)],\n",
       " 'pc music': [('bitch', 15),\n",
       "  ('guessed', 10),\n",
       "  ('us', 7),\n",
       "  ('nigga', 6),\n",
       "  ('right', 5)],\n",
       " '60th anniversary': [('hawaii', 10),\n",
       "  ('christmas', 5),\n",
       "  ('spend', 4),\n",
       "  ('wan', 4),\n",
       "  ('melekalikimaka', 3)],\n",
       " 'andrews sisters': [('hawaii', 10),\n",
       "  ('christmas', 5),\n",
       "  ('spend', 4),\n",
       "  ('wan', 4),\n",
       "  ('melekalikimaka', 3)],\n",
       " 'rnb': [('showed', 10),\n",
       "  ('way', 8),\n",
       "  ('life', 5),\n",
       "  ('say', 3),\n",
       "  ('immortality', 3)],\n",
       " 'garage rock': [('mine', 15),\n",
       "  ('love', 7),\n",
       "  ('could', 3),\n",
       "  ('nothing', 3),\n",
       "  ('world', 3)],\n",
       " 'indie': [('mine', 15),\n",
       "  ('love', 7),\n",
       "  ('could', 3),\n",
       "  ('nothing', 3),\n",
       "  ('world', 3)],\n",
       " 'aor': [('night', 5),\n",
       "  ('streetlights', 5),\n",
       "  ('people', 5),\n",
       "  ('livin', 3),\n",
       "  ('stop', 3)],\n",
       " 'arena rock': [('night', 5),\n",
       "  ('streetlights', 5),\n",
       "  ('people', 5),\n",
       "  ('livin', 3),\n",
       "  ('stop', 3)],\n",
       " 'estados unidos': [('night', 5),\n",
       "  ('streetlights', 5),\n",
       "  ('people', 5),\n",
       "  ('livin', 3),\n",
       "  ('stop', 3)],\n",
       " 'hard rock': [('night', 5),\n",
       "  ('streetlights', 5),\n",
       "  ('people', 5),\n",
       "  ('livin', 3),\n",
       "  ('stop', 3)],\n",
       " 'prog related': [('night', 5),\n",
       "  ('streetlights', 5),\n",
       "  ('people', 5),\n",
       "  ('livin', 3),\n",
       "  ('stop', 3)],\n",
       " 'jangle pop': [('fall', 9),\n",
       "  ('found', 9),\n",
       "  ('never', 8),\n",
       "  ('would', 6),\n",
       "  ('love', 4)],\n",
       " \"you've got a friend\": [('christmas', 10),\n",
       "  ('bright', 4),\n",
       "  ('shake', 4),\n",
       "  ('hand', 4),\n",
       "  ('fireside', 3)],\n",
       " '00s': [('bye', 33), ('wan', 16), ('baby', 9), ('lie', 9), ('make', 5)],\n",
       " 'boy band': [('bye', 33),\n",
       "  ('wan', 16),\n",
       "  ('baby', 14),\n",
       "  ('lie', 9),\n",
       "  ('changes', 8)],\n",
       " 'indietronica': [('believer', 18),\n",
       "  ('pain', 13),\n",
       "  ('made', 12),\n",
       "  ('things', 6),\n",
       "  ('let', 6)],\n",
       " '5th gen k-pop': [('nigga', 10),\n",
       "  ('like', 8),\n",
       "  ('chopper', 5),\n",
       "  ('90', 5),\n",
       "  ('coupe', 5)],\n",
       " 'kpop': [('nigga', 10), ('like', 8), ('chopper', 5), ('90', 5), ('coupe', 5)],\n",
       " 'bubblegum pop': [('cozy', 7),\n",
       "  ('need', 5),\n",
       "  ('little', 5),\n",
       "  ('nothing', 4),\n",
       "  ('christmas', 4)],\n",
       " 'camp': [('cozy', 7),\n",
       "  ('need', 5),\n",
       "  ('little', 5),\n",
       "  ('nothing', 4),\n",
       "  ('christmas', 4)],\n",
       " 'power pop': [('changes', 8),\n",
       "  ('never', 6),\n",
       "  ('ever', 6),\n",
       "  ('night', 6),\n",
       "  ('fast', 5)],\n",
       " 'future bass': [('something', 15),\n",
       "  ('want', 12),\n",
       "  ('like', 12),\n",
       "  ('wan', 6),\n",
       "  ('somebody', 6)],\n",
       " 'satire': [('something', 15),\n",
       "  ('want', 12),\n",
       "  ('like', 12),\n",
       "  ('wan', 6),\n",
       "  ('somebody', 6)]}"
      ]
     },
     "execution_count": 132,
     "metadata": {},
     "output_type": "execute_result"
    }
   ],
   "source": [
    "# For each tag, find the most common words\n",
    "tag_words = []\n",
    "for tag in df_merged['Tags']:\n",
    "    if tag:\n",
    "        for word in tag:\n",
    "            if word not in tag_words:\n",
    "                tag_words.append(word)\n",
    "                \n",
    "print(tag_words)\n",
    "print(df_merged['Tags'])\n",
    "                    \n",
    "# For each tag, find the artists, then the songs, then the most common words\n",
    "most_common_words = {}\n",
    "for tag in tag_words:\n",
    "    artists = df_merged[df_merged['Tags'].apply(lambda x: x is not None and tag in x)]['Artist']\n",
    "    songs = dataframe[dataframe['Artist'].apply(lambda x: any(artist in x for artist in artists))]['LyricsTokenized']\n",
    "    words = [word for sublist in songs for word in sublist]\n",
    "    most_common_words[tag] = Counter(words).most_common(5)\n",
    "    \n",
    "most_common_words"
   ]
  }
 ],
 "metadata": {
  "kernelspec": {
   "display_name": "base",
   "language": "python",
   "name": "python3"
  },
  "language_info": {
   "codemirror_mode": {
    "name": "ipython",
    "version": 3
   },
   "file_extension": ".py",
   "mimetype": "text/x-python",
   "name": "python",
   "nbconvert_exporter": "python",
   "pygments_lexer": "ipython3",
   "version": "3.11.10"
  }
 },
 "nbformat": 4,
 "nbformat_minor": 2
}
